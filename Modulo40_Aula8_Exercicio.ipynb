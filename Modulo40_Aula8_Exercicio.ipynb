{
  "nbformat": 4,
  "nbformat_minor": 0,
  "metadata": {
    "colab": {
      "provenance": [],
      "collapsed_sections": [
        "JG1HL69-j0lH",
        "s_Dj-BgThLg5",
        "jeEzLmuRhDQy",
        "PoTeRwlihDQ0",
        "QpMlxqRyhDQ1",
        "ov7Fg-mWhDQ1",
        "DvHPNAoPgdiG",
        "3SMp5GwjglJm",
        "e3ieQfXTgqd3",
        "L0pKWNr5fm9z",
        "DMhCpOU_gupo",
        "l3h0WP2Eg2ht",
        "rWG4Vk6XaWtf",
        "wkibgd8rB8y3",
        "IjPaJtnYE0MI",
        "2lpj1rszc--m",
        "HnWg_mhLd5gC",
        "RhqmXiHQo-is",
        "SvT9xrajLL7J",
        "91eSyA2cLLqv"
      ]
    },
    "kernelspec": {
      "name": "python3",
      "display_name": "Python 3"
    }
  },
  "cells": [
    {
      "cell_type": "markdown",
      "metadata": {
        "id": "KJqp9AANOCtf"
      },
      "source": [
        "<img src=\"https://raw.githubusercontent.com/andre-marcos-perez/ebac-course-utils/main/media/logo/newebac_logo_black_half.png\" alt=\"ebac-logo\">\n",
        "\n",
        "---\n",
        "\n",
        "# **Módulo** | Computação em Nuvem III\n",
        "Caderno de **Exercícios**<br>\n",
        "Professor [André Perez](https://www.linkedin.com/in/andremarcosperez/)\n",
        "\n",
        "---"
      ]
    },
    {
      "cell_type": "markdown",
      "metadata": {
        "id": "d9jDtUbDOE1-"
      },
      "source": [
        "# **Tópicos**\n",
        "\n",
        "<ol type=\"1\">\n",
        "  <li>Introdução;</li>\n",
        "  <li>Apache Spark;</li>\n",
        "  <li>Data Wrangling com Spark.</li>\n",
        "</ol>"
      ]
    },
    {
      "cell_type": "markdown",
      "metadata": {
        "id": "SmoHgt-lwkpD"
      },
      "source": [
        "---"
      ]
    },
    {
      "cell_type": "markdown",
      "metadata": {
        "id": "GABI6OW8OfQ2"
      },
      "source": [
        "# **Exercícios**"
      ]
    },
    {
      "cell_type": "markdown",
      "metadata": {
        "id": "ne7Ay0HKaGSv"
      },
      "source": [
        "## 1\\. Apache Spark"
      ]
    },
    {
      "cell_type": "markdown",
      "metadata": {
        "id": "OQxOVktrzG9I"
      },
      "source": [
        "Replique as atividades do item 2.1 e 2.2 para instalar e configurar um cluster Apache Spark na máquina virtual do Google Colab."
      ]
    },
    {
      "cell_type": "code",
      "source": [
        "# Download do Spark na mesma versão estável mais recente e sem conflitos (spark-3.5.0)\n",
        "\n",
        "%%capture\n",
        "!wget -q https://archive.apache.org/dist/spark/spark-3.5.0/spark-3.5.0-bin-hadoop3.tgz\n",
        "!tar xf spark-3.5.0-bin-hadoop3.tgz && rm spark-3.5.0-bin-hadoop3.tgz"
      ],
      "metadata": {
        "id": "ya2ASWe5ZE9n"
      },
      "execution_count": 1,
      "outputs": []
    },
    {
      "cell_type": "code",
      "source": [
        "# Download e instalação do Java, versão 8\n",
        "\n",
        "%%capture\n",
        "!apt-get remove openjdk*\n",
        "!apt-get update --fix-missing\n",
        "!apt-get install openjdk-8-jdk-headless -qq > /dev/null"
      ],
      "metadata": {
        "id": "ntgSceGtZHv7"
      },
      "execution_count": 2,
      "outputs": []
    },
    {
      "cell_type": "code",
      "source": [
        "# Download do PySpark na mesma versão estável mais recente e sem conflitos (pyspark-3.5.4)\n",
        "\n",
        "!pip install pyspark==3.5.4"
      ],
      "metadata": {
        "colab": {
          "base_uri": "https://localhost:8080/"
        },
        "id": "0UpIzMUVZVLs",
        "outputId": "0769fea2-ada3-4fe6-9023-1994852b6451"
      },
      "execution_count": 3,
      "outputs": [
        {
          "output_type": "stream",
          "name": "stdout",
          "text": [
            "Requirement already satisfied: pyspark==3.5.4 in /usr/local/lib/python3.11/dist-packages (3.5.4)\n",
            "Requirement already satisfied: py4j==0.10.9.7 in /usr/local/lib/python3.11/dist-packages (from pyspark==3.5.4) (0.10.9.7)\n"
          ]
        }
      ]
    },
    {
      "cell_type": "code",
      "source": [
        "import os\n",
        "\n",
        "os.environ[\"SPARK_HOME\"] = \"/content/spark-3.5.0-bin-hadoop3\"\n",
        "os.environ[\"PYSPARK_PYTHON\"] = \"python3\""
      ],
      "metadata": {
        "id": "tESjp1RuZpGk"
      },
      "execution_count": 4,
      "outputs": []
    },
    {
      "cell_type": "code",
      "source": [
        "!pip install -q findspark==1.4.2"
      ],
      "metadata": {
        "id": "OBaoRg_pZq_7"
      },
      "execution_count": 5,
      "outputs": []
    },
    {
      "cell_type": "code",
      "source": [
        "import findspark\n",
        "\n",
        "findspark.init()"
      ],
      "metadata": {
        "id": "1GRm5sYUZsnr"
      },
      "execution_count": 6,
      "outputs": []
    },
    {
      "cell_type": "code",
      "source": [
        "from pyspark.sql import SparkSession\n",
        "\n",
        "spark = SparkSession.builder \\\n",
        "    .master(\"local[*]\") \\\n",
        "    .appName(\"pyspark-notebook\") \\\n",
        "    .getOrCreate()\n",
        "\n",
        "print(\"Spark rodando com sucesso!\")"
      ],
      "metadata": {
        "colab": {
          "base_uri": "https://localhost:8080/"
        },
        "id": "frBS-Q0fadb-",
        "outputId": "29d4637b-5f65-4c27-8830-c2a2dfe869a3"
      },
      "execution_count": 9,
      "outputs": [
        {
          "output_type": "stream",
          "name": "stdout",
          "text": [
            "Spark rodando com sucesso!\n"
          ]
        }
      ]
    },
    {
      "cell_type": "markdown",
      "metadata": {
        "id": "EvJTE2FpaGeU"
      },
      "source": [
        "## 2\\. Data Wrangling"
      ]
    },
    {
      "cell_type": "markdown",
      "metadata": {
        "id": "ISYXZbomlb1x"
      },
      "source": [
        "A base de dados presente neste [link](https://www.kaggle.com/datasets/bank-of-england/a-millennium-of-macroeconomic-data) contem dados macroeconômicos sobre o Reino Unido desde o século 13."
      ]
    },
    {
      "cell_type": "markdown",
      "source": [
        "**2.1\\. Data**"
      ],
      "metadata": {
        "id": "gw9qU6sLipWv"
      }
    },
    {
      "cell_type": "markdown",
      "source": [
        "Faça o download dos dados utilizando a máquina virutal do Google Colab com o código abaixo."
      ],
      "metadata": {
        "id": "1hnomN0NmgFY"
      }
    },
    {
      "cell_type": "code",
      "source": [
        "!wget -q \"https://raw.githubusercontent.com/cluster-apps-on-docker/spark-standalone-cluster-on-docker/master/build/workspace/data/uk-macroeconomic-data.csv\" -O \"uk-macroeconomic-data.csv\""
      ],
      "metadata": {
        "id": "D7kgFvnoklGX"
      },
      "execution_count": 10,
      "outputs": []
    },
    {
      "cell_type": "markdown",
      "source": [
        "**2.2. Wrangling**"
      ],
      "metadata": {
        "id": "b-I1dUa0iyE1"
      }
    },
    {
      "cell_type": "markdown",
      "source": [
        "Processe os dados para que a base de dados final apresente os valores da taxa de desemprego (`Unemployment rate`) e população (`Population (GB+NI)`) estejam ordenados por ano decrescente:"
      ],
      "metadata": {
        "id": "RONWLjqgkr5B"
      }
    },
    {
      "cell_type": "markdown",
      "source": [
        "```csv\n",
        "year,population,unemployment_rate\n",
        "...,...,...\n",
        "```"
      ],
      "metadata": {
        "id": "mr-NTxnalqIm"
      }
    },
    {
      "cell_type": "code",
      "source": [
        "data = spark.read.csv(path=\"uk-macroeconomic-data.csv\", sep=\",\", header=True)"
      ],
      "metadata": {
        "id": "-CtEHxftbmX7"
      },
      "execution_count": 11,
      "outputs": []
    },
    {
      "cell_type": "code",
      "source": [
        "data.show()"
      ],
      "metadata": {
        "colab": {
          "base_uri": "https://localhost:8080/"
        },
        "id": "6sGLM32hbuvn",
        "outputId": "1f761680-74cd-4105-e651-43c85aafd091"
      },
      "execution_count": 12,
      "outputs": [
        {
          "output_type": "stream",
          "name": "stdout",
          "text": [
            "+-----------+------------------------------------+-----------------------------------+-------------------------------------------------------------------------------------------+-----------------------------------------------------------------------------------------+------------------------------------------------------------------------------+----------------------------------------------------------------------------------------+-------------------------------------------------------------------------------------+-----------------------------------------------------------------------------------+--------------------+--------------------+--------------------------+-------------------------------------------------+--------------------+--------------------+---------------------------------------+-------------------------------+---------------------------------+------------------+--------------------+----------+-----------------+---------------------------+-------------------------------+----------+--------------------+---------------------+-------------------------------------------+-----------------------------+-------------+-------------+--------------+------------+--------------------+--------------------+------------------------+----------------------+------------------------------+------------+--------------------+------------------------------------------+------------------------------------------+--------------------+-----------------------------------+---------------------+--------------------+--------------------+----------------------+--------------------+--------------------+--------------------+-------------+--------------+-----------------------------+-------------------------------+-----------------------------------------------+-----------------------------+-------------+-------------+-------------+---------------------------------------+-----------------------------------------+----------------------------+------------------------------+-----------------------------------------+-------------------------------------------+---------------------+-----------------------+-----------------------+-----------------------------+-------------------------------+-------------+--------------------+----------------+--------------------+----------------------------------------------------------------------+------------------------------------------------------------------------+\n",
            "|Description|Real GDP of England at market prices|Real GDP of England at factor cost |Real UK GDP at market prices, geographically-consistent estimate based on post-1922 borders|Real UK GDP at factor cost, geographically-consistent estimate based on post-1922 borders|Index of real UK GDP at factor cost - based on changing political boundaries, |Composite estimate of English and (geographically-consistent) UK real GDP at factor cost|HP-filter of log of real composite estimate of English and UK real GDP at factor cost|Real UK gross disposable national income at market prices, constant border estimate|    Real consumption|     Real investment|Stockbuilding contribution|Real government consumption of goods and services|      Export volumes|      Import volumes|Nominal GDP of England at market prices|Nominal UK GDP at market prices|Nominal UK GDP at market prices.1|Population (GB+NI)|Population (England)|Employment|Unemployment rate|Average weekly hours worked|Capital Services, whole economy|TFP growth| Labour productivity|Labour productivity.1|Labour share, whole economy excluding rents|GDP deflator at market prices|Export prices|Import prices|Terms of Trade|$ Oil prices|   Earnings per head|Consumer price index|Consumer price inflation|Real consumption wages|Wholesale/producer price index|   Bank Rate|         Bank Rate.1|10 year/medium-term government bond yields|Consols / long-term government bond yields|      Mortgage rates|Corporate borrowing rate from banks|Corporate bond yields|        Share prices|   $/£ exchange rate|Real $/£ exchange rate|         Nominal ERI|            Real ERI|   House price index|      Credit |Secured credit|Bank of England Balance sheet|Bank of England Balance sheet.1|Coin in circulation outside the Bank of England|Notes and coin in circulation|Monetary base|           M1| Broad Money |Public sector Total Managed Expenditure|Public sector Total Managed Expenditure.1|Public Sector Total Receipts|Public Sector Total Receipts.1|Public Sector Net Lending(+)/Borrowing(-)|Public Sector Net Lending(+)/Borrowing(-).1|UK Public sector debt|UK Public sector debt.1|UK Public sector debt.2|Central Government Gross Debt|Central Government Gross Debt.1|Trade deficit|     Trade deficit.1|Current account |  Current account .1|Current account deficit including estimated non-monetary bullion flows|Current account deficit including estimated non-monetary bullion flows.1|\n",
            "+-----------+------------------------------------+-----------------------------------+-------------------------------------------------------------------------------------------+-----------------------------------------------------------------------------------------+------------------------------------------------------------------------------+----------------------------------------------------------------------------------------+-------------------------------------------------------------------------------------+-----------------------------------------------------------------------------------+--------------------+--------------------+--------------------------+-------------------------------------------------+--------------------+--------------------+---------------------------------------+-------------------------------+---------------------------------+------------------+--------------------+----------+-----------------+---------------------------+-------------------------------+----------+--------------------+---------------------+-------------------------------------------+-----------------------------+-------------+-------------+--------------+------------+--------------------+--------------------+------------------------+----------------------+------------------------------+------------+--------------------+------------------------------------------+------------------------------------------+--------------------+-----------------------------------+---------------------+--------------------+--------------------+----------------------+--------------------+--------------------+--------------------+-------------+--------------+-----------------------------+-------------------------------+-----------------------------------------------+-----------------------------+-------------+-------------+-------------+---------------------------------------+-----------------------------------------+----------------------------+------------------------------+-----------------------------------------+-------------------------------------------+---------------------+-----------------------+-----------------------+-----------------------------+-------------------------------+-------------+--------------------+----------------+--------------------+----------------------------------------------------------------------+------------------------------------------------------------------------+\n",
            "|      Units|                £mn, Chained Volu...|               £mn, Chained Volu...|                                                                       £mn, Chained Volu...|                                                                     £mn, Chained Volu...|                                                          GB before 1801, G...|                                                                                2013=100|                                                                 approx. % differe...|                                                               £mn, Chained Volu...|£mn, Chained Volu...|£mn, Chained Volu...|      pp contribution t...|                             £mn, Chained Volu...|£mn, Chained Volu...|£mn, Chained Volu...|                                    £mn|                            £mn|                              £mn|              000s|                000s|      000s|                %|                      hours|               £mn, 2013 prices|         %|Real GDP per head...| Real GDP per hour...|                       share of GDP excl...|                     2013=100|     2013=100|     2013=100|      2013=100|$ per barrel|Average weekly ea...|            2015=100|                       %|              1900=100|                      2010=100|% end period|%, calendar year ...|                      %, calendar year ...|                      %, calendar year ...|%, calendar year ...|               %, calendar year ...| %, calendar year ...|April 1962=100, Y...|Calendar year ave...|  Calendar year ave...|Calendar year ave...|Calendar year ave...|Calendar year ave...|Year end, £mn| Year end, £mn|             % of nominal GDP|               % of nominal GDP|                                  Year end, £mn|                Year end, £mn|Year end, £mn|Year end, £mn|Year end, £mn|                   Calendar year tot...|                     as a % of nominal...|        Calendar year tot...|          as a % of nominal...|                     Calendar year tot...|                       as a % of nominal...| Calendar Year end...|   as a % of nominal...|   as a % of nominal...|         Financial year en...|           Financial year en...|          £mn|as a % of nominal...|             £mn|as a % of nominal...|                                                                   £mn|                                                    as a % of nominal...|\n",
            "|       1209|                                NULL|                               NULL|                                                                                       NULL|                                                                                     NULL|                                                                          NULL|                                                                                    NULL|                                                                                 NULL|                                                                               NULL|                NULL|                NULL|                      NULL|                                             NULL|                NULL|                NULL|                                   NULL|                           NULL|                             NULL|              NULL|                3626|      NULL|             NULL|                       NULL|                           NULL|      NULL|                NULL|                 NULL|                                       NULL|                         NULL|         NULL|         NULL|          NULL|        NULL|               0.034|                0.08|                    NULL|                 51.79|                          NULL|        NULL|                NULL|                                      NULL|                                      NULL|                NULL|                               NULL|                 NULL|                NULL|                NULL|                  NULL|                NULL|                NULL|                NULL|         NULL|          NULL|                         NULL|                           NULL|                                           NULL|                         NULL|         NULL|         NULL|         NULL|                                   NULL|                                     NULL|                        NULL|                          NULL|                                     NULL|                                       NULL|                 NULL|                   NULL|                   NULL|                         NULL|                           NULL|         NULL|                NULL|            NULL|                NULL|                                                                  NULL|                                                                    NULL|\n",
            "|       1210|                                NULL|                               NULL|                                                                                       NULL|                                                                                     NULL|                                                                          NULL|                                                                                    NULL|                                                                                 NULL|                                                                               NULL|                NULL|                NULL|                      NULL|                                             NULL|                NULL|                NULL|                                   NULL|                           NULL|                             NULL|              NULL|                3656|      NULL|             NULL|                       NULL|                           NULL|      NULL|                NULL|                 NULL|                                       NULL|                         NULL|         NULL|         NULL|          NULL|        NULL|               0.030|                0.08|                    2.58|                 44.65|                          NULL|        NULL|                NULL|                                      NULL|                                      NULL|                NULL|                               NULL|                 NULL|                NULL|                NULL|                  NULL|                NULL|                NULL|                NULL|         NULL|          NULL|                         NULL|                           NULL|                                           NULL|                         NULL|         NULL|         NULL|         NULL|                                   NULL|                                     NULL|                        NULL|                          NULL|                                     NULL|                                       NULL|                 NULL|                   NULL|                   NULL|                         NULL|                           NULL|         NULL|                NULL|            NULL|                NULL|                                                                  NULL|                                                                    NULL|\n",
            "|       1211|                                NULL|                               NULL|                                                                                       NULL|                                                                                     NULL|                                                                          NULL|                                                                                    NULL|                                                                                 NULL|                                                                               NULL|                NULL|                NULL|                      NULL|                                             NULL|                NULL|                NULL|                                   NULL|                           NULL|                             NULL|              NULL|                3686|      NULL|             NULL|                       NULL|                           NULL|      NULL|                NULL|                 NULL|                                       NULL|                         NULL|         NULL|         NULL|          NULL|        NULL|               0.026|                0.09|                   12.22|                 34.86|                          NULL|        NULL|                NULL|                                      NULL|                                      NULL|                NULL|                               NULL|                 NULL|                NULL|                NULL|                  NULL|                NULL|                NULL|                NULL|         NULL|          NULL|                         NULL|                           NULL|                                           NULL|                         NULL|         NULL|         NULL|         NULL|                                   NULL|                                     NULL|                        NULL|                          NULL|                                     NULL|                                       NULL|                 NULL|                   NULL|                   NULL|                         NULL|                           NULL|         NULL|                NULL|            NULL|                NULL|                                                                  NULL|                                                                    NULL|\n",
            "|       1212|                                NULL|                               NULL|                                                                                       NULL|                                                                                     NULL|                                                                          NULL|                                                                                    NULL|                                                                                 NULL|                                                                               NULL|                NULL|                NULL|                      NULL|                                             NULL|                NULL|                NULL|                                   NULL|                           NULL|                             NULL|              NULL|                3717|      NULL|             NULL|                       NULL|                           NULL|      NULL|                NULL|                 NULL|                                       NULL|                         NULL|         NULL|         NULL|          NULL|        NULL|               0.033|                0.08|                  -12.32|                 49.35|                          NULL|        NULL|                NULL|                                      NULL|                                      NULL|                NULL|                               NULL|                 NULL|                NULL|                NULL|                  NULL|                NULL|                NULL|                NULL|         NULL|          NULL|                         NULL|                           NULL|                                           NULL|                         NULL|         NULL|         NULL|         NULL|                                   NULL|                                     NULL|                        NULL|                          NULL|                                     NULL|                                       NULL|                 NULL|                   NULL|                   NULL|                         NULL|                           NULL|         NULL|                NULL|            NULL|                NULL|                                                                  NULL|                                                                    NULL|\n",
            "|       1213|                                NULL|                               NULL|                                                                                       NULL|                                                                                     NULL|                                                                          NULL|                                                                                    NULL|                                                                                 NULL|                                                                               NULL|                NULL|                NULL|                      NULL|                                             NULL|                NULL|                NULL|                                   NULL|                           NULL|                             NULL|              NULL|                3747|      NULL|             NULL|                       NULL|                           NULL|      NULL|                NULL|                 NULL|                                       NULL|                         NULL|         NULL|         NULL|          NULL|        NULL|               0.037|                0.08|                   -3.37|                 57.28|                          NULL|        NULL|                NULL|                                      NULL|                                      NULL|                NULL|                               NULL|                 NULL|                NULL|                NULL|                  NULL|                NULL|                NULL|                NULL|         NULL|          NULL|                         NULL|                           NULL|                                           NULL|                         NULL|         NULL|         NULL|         NULL|                                   NULL|                                     NULL|                        NULL|                          NULL|                                     NULL|                                       NULL|                 NULL|                   NULL|                   NULL|                         NULL|                           NULL|         NULL|                NULL|            NULL|                NULL|                                                                  NULL|                                                                    NULL|\n",
            "|       1214|                                NULL|                               NULL|                                                                                       NULL|                                                                                     NULL|                                                                          NULL|                                                                                    NULL|                                                                                 NULL|                                                                               NULL|                NULL|                NULL|                      NULL|                                             NULL|                NULL|                NULL|                                   NULL|                           NULL|                             NULL|              NULL|                3778|      NULL|             NULL|                       NULL|                           NULL|      NULL|                NULL|                 NULL|                                       NULL|                         NULL|         NULL|         NULL|          NULL|        NULL|               0.041|                0.08|                   -3.37|                 66.49|                          NULL|        NULL|                NULL|                                      NULL|                                      NULL|                NULL|                               NULL|                 NULL|                NULL|                NULL|                  NULL|                NULL|                NULL|                NULL|         NULL|          NULL|                         NULL|                           NULL|                                           NULL|                         NULL|         NULL|         NULL|         NULL|                                   NULL|                                     NULL|                        NULL|                          NULL|                                     NULL|                                       NULL|                 NULL|                   NULL|                   NULL|                         NULL|                           NULL|         NULL|                NULL|            NULL|                NULL|                                                                  NULL|                                                                    NULL|\n",
            "|       1215|                                NULL|                               NULL|                                                                                       NULL|                                                                                     NULL|                                                                          NULL|                                                                                    NULL|                                                                                 NULL|                                                                               NULL|                NULL|                NULL|                      NULL|                                             NULL|                NULL|                NULL|                                   NULL|                           NULL|                             NULL|              NULL|                3810|      NULL|             NULL|                       NULL|                           NULL|      NULL|                NULL|                 NULL|                                       NULL|                         NULL|         NULL|         NULL|          NULL|        NULL|               0.038|                0.08|                    6.34|                 57.33|                          NULL|        NULL|                NULL|                                      NULL|                                      NULL|                NULL|                               NULL|                 NULL|                NULL|                NULL|                  NULL|                NULL|                NULL|                NULL|         NULL|          NULL|                         NULL|                           NULL|                                           NULL|                         NULL|         NULL|         NULL|         NULL|                                   NULL|                                     NULL|                        NULL|                          NULL|                                     NULL|                                       NULL|                 NULL|                   NULL|                   NULL|                         NULL|                           NULL|         NULL|                NULL|            NULL|                NULL|                                                                  NULL|                                                                    NULL|\n",
            "|       1216|                                NULL|                               NULL|                                                                                       NULL|                                                                                     NULL|                                                                          NULL|                                                                                    NULL|                                                                                 NULL|                                                                               NULL|                NULL|                NULL|                      NULL|                                             NULL|                NULL|                NULL|                                   NULL|                           NULL|                             NULL|              NULL|                3841|      NULL|             NULL|                       NULL|                           NULL|      NULL|                NULL|                 NULL|                                       NULL|                         NULL|         NULL|         NULL|          NULL|        NULL|               0.035|                0.09|                    6.34|                 49.44|                          NULL|        NULL|                NULL|                                      NULL|                                      NULL|                NULL|                               NULL|                 NULL|                NULL|                NULL|                  NULL|                NULL|                NULL|                NULL|         NULL|          NULL|                         NULL|                           NULL|                                           NULL|                         NULL|         NULL|         NULL|         NULL|                                   NULL|                                     NULL|                        NULL|                          NULL|                                     NULL|                                       NULL|                 NULL|                   NULL|                   NULL|                         NULL|                           NULL|         NULL|                NULL|            NULL|                NULL|                                                                  NULL|                                                                    NULL|\n",
            "|       1217|                                NULL|                               NULL|                                                                                       NULL|                                                                                     NULL|                                                                          NULL|                                                                                    NULL|                                                                                 NULL|                                                                               NULL|                NULL|                NULL|                      NULL|                                             NULL|                NULL|                NULL|                                   NULL|                           NULL|                             NULL|              NULL|                3873|      NULL|             NULL|                       NULL|                           NULL|      NULL|                NULL|                 NULL|                                       NULL|                         NULL|         NULL|         NULL|          NULL|        NULL|               0.034|                0.10|                   15.78|                 41.18|                          NULL|        NULL|                NULL|                                      NULL|                                      NULL|                NULL|                               NULL|                 NULL|                NULL|                NULL|                  NULL|                NULL|                NULL|                NULL|         NULL|          NULL|                         NULL|                           NULL|                                           NULL|                         NULL|         NULL|         NULL|         NULL|                                   NULL|                                     NULL|                        NULL|                          NULL|                                     NULL|                                       NULL|                 NULL|                   NULL|                   NULL|                         NULL|                           NULL|         NULL|                NULL|            NULL|                NULL|                                                                  NULL|                                                                    NULL|\n",
            "|       1218|                                NULL|                               NULL|                                                                                       NULL|                                                                                     NULL|                                                                          NULL|                                                                                    NULL|                                                                                 NULL|                                                                               NULL|                NULL|                NULL|                      NULL|                                             NULL|                NULL|                NULL|                                   NULL|                           NULL|                             NULL|              NULL|                3905|      NULL|             NULL|                       NULL|                           NULL|      NULL|                NULL|                 NULL|                                       NULL|                         NULL|         NULL|         NULL|          NULL|        NULL|               0.029|                0.12|                   16.62|                 30.69|                          NULL|        NULL|                NULL|                                      NULL|                                      NULL|                NULL|                               NULL|                 NULL|                NULL|                NULL|                  NULL|                NULL|                NULL|                NULL|         NULL|          NULL|                         NULL|                           NULL|                                           NULL|                         NULL|         NULL|         NULL|         NULL|                                   NULL|                                     NULL|                        NULL|                          NULL|                                     NULL|                                       NULL|                 NULL|                   NULL|                   NULL|                         NULL|                           NULL|         NULL|                NULL|            NULL|                NULL|                                                                  NULL|                                                                    NULL|\n",
            "|       1219|                                NULL|                               NULL|                                                                                       NULL|                                                                                     NULL|                                                                          NULL|                                                                                    NULL|                                                                                 NULL|                                                                               NULL|                NULL|                NULL|                      NULL|                                             NULL|                NULL|                NULL|                                   NULL|                           NULL|                             NULL|              NULL|                3937|      NULL|             NULL|                       NULL|                           NULL|      NULL|                NULL|                 NULL|                                       NULL|                         NULL|         NULL|         NULL|          NULL|        NULL|               0.036|                0.11|                   -3.13|                 39.33|                          NULL|        NULL|                NULL|                                      NULL|                                      NULL|                NULL|                               NULL|                 NULL|                NULL|                NULL|                  NULL|                NULL|                NULL|                NULL|         NULL|          NULL|                         NULL|                           NULL|                                           NULL|                         NULL|         NULL|         NULL|         NULL|                                   NULL|                                     NULL|                        NULL|                          NULL|                                     NULL|                                       NULL|                 NULL|                   NULL|                   NULL|                         NULL|                           NULL|         NULL|                NULL|            NULL|                NULL|                                                                  NULL|                                                                    NULL|\n",
            "|       1220|                                NULL|                               NULL|                                                                                       NULL|                                                                                     NULL|                                                                          NULL|                                                                                    NULL|                                                                                 NULL|                                                                               NULL|                NULL|                NULL|                      NULL|                                             NULL|                NULL|                NULL|                                   NULL|                           NULL|                             NULL|              NULL|                3970|      NULL|             NULL|                       NULL|                           NULL|      NULL|                NULL|                 NULL|                                       NULL|                         NULL|         NULL|         NULL|          NULL|        NULL|               0.029|                0.10|                  -12.67|                 36.28|                          NULL|        NULL|                NULL|                                      NULL|                                      NULL|                NULL|                               NULL|                 NULL|                NULL|                NULL|                  NULL|                NULL|                NULL|                NULL|         NULL|          NULL|                         NULL|                           NULL|                                           NULL|                         NULL|         NULL|         NULL|         NULL|                                   NULL|                                     NULL|                        NULL|                          NULL|                                     NULL|                                       NULL|                 NULL|                   NULL|                   NULL|                         NULL|                           NULL|         NULL|                NULL|            NULL|                NULL|                                                                  NULL|                                                                    NULL|\n",
            "|       1221|                                NULL|                               NULL|                                                                                       NULL|                                                                                     NULL|                                                                          NULL|                                                                                    NULL|                                                                                 NULL|                                                                               NULL|                NULL|                NULL|                      NULL|                                             NULL|                NULL|                NULL|                                   NULL|                           NULL|                             NULL|              NULL|                3978|      NULL|             NULL|                       NULL|                           NULL|      NULL|                NULL|                 NULL|                                       NULL|                         NULL|         NULL|         NULL|          NULL|        NULL|               0.030|                0.11|                   11.96|                 33.73|                          NULL|        NULL|                NULL|                                      NULL|                                      NULL|                NULL|                               NULL|                 NULL|                NULL|                NULL|                  NULL|                NULL|                NULL|                NULL|         NULL|          NULL|                         NULL|                           NULL|                                           NULL|                         NULL|         NULL|         NULL|         NULL|                                   NULL|                                     NULL|                        NULL|                          NULL|                                     NULL|                                       NULL|                 NULL|                   NULL|                   NULL|                         NULL|                           NULL|         NULL|                NULL|            NULL|                NULL|                                                                  NULL|                                                                    NULL|\n",
            "|       1222|                                NULL|                               NULL|                                                                                       NULL|                                                                                     NULL|                                                                          NULL|                                                                                    NULL|                                                                                 NULL|                                                                               NULL|                NULL|                NULL|                      NULL|                                             NULL|                NULL|                NULL|                                   NULL|                           NULL|                             NULL|              NULL|                3987|      NULL|             NULL|                       NULL|                           NULL|      NULL|                NULL|                 NULL|                                       NULL|                         NULL|         NULL|         NULL|          NULL|        NULL|               0.033|                0.09|                  -15.56|                 43.05|                          NULL|        NULL|                NULL|                                      NULL|                                      NULL|                NULL|                               NULL|                 NULL|                NULL|                NULL|                  NULL|                NULL|                NULL|                NULL|         NULL|          NULL|                         NULL|                           NULL|                                           NULL|                         NULL|         NULL|         NULL|         NULL|                                   NULL|                                     NULL|                        NULL|                          NULL|                                     NULL|                                       NULL|                 NULL|                   NULL|                   NULL|                         NULL|                           NULL|         NULL|                NULL|            NULL|                NULL|                                                                  NULL|                                                                    NULL|\n",
            "|       1223|                                NULL|                               NULL|                                                                                       NULL|                                                                                     NULL|                                                                          NULL|                                                                                    NULL|                                                                                 NULL|                                                                               NULL|                NULL|                NULL|                      NULL|                                             NULL|                NULL|                NULL|                                   NULL|                           NULL|                             NULL|              NULL|                3995|      NULL|             NULL|                       NULL|                           NULL|      NULL|                NULL|                 NULL|                                       NULL|                         NULL|         NULL|         NULL|          NULL|        NULL|               0.035|                0.08|                  -15.56|                 54.95|                          NULL|        NULL|                NULL|                                      NULL|                                      NULL|                NULL|                               NULL|                 NULL|                NULL|                NULL|                  NULL|                NULL|                NULL|                NULL|         NULL|          NULL|                         NULL|                           NULL|                                           NULL|                         NULL|         NULL|         NULL|         NULL|                                   NULL|                                     NULL|                        NULL|                          NULL|                                     NULL|                                       NULL|                 NULL|                   NULL|                   NULL|                         NULL|                           NULL|         NULL|                NULL|            NULL|                NULL|                                                                  NULL|                                                                    NULL|\n",
            "|       1224|                                NULL|                               NULL|                                                                                       NULL|                                                                                     NULL|                                                                          NULL|                                                                                    NULL|                                                                                 NULL|                                                                               NULL|                NULL|                NULL|                      NULL|                                             NULL|                NULL|                NULL|                                   NULL|                           NULL|                             NULL|              NULL|                4004|      NULL|             NULL|                       NULL|                           NULL|      NULL|                NULL|                 NULL|                                       NULL|                         NULL|         NULL|         NULL|          NULL|        NULL|               0.036|                0.09|                   10.33|                 50.33|                          NULL|        NULL|                NULL|                                      NULL|                                      NULL|                NULL|                               NULL|                 NULL|                NULL|                NULL|                  NULL|                NULL|                NULL|                NULL|         NULL|          NULL|                         NULL|                           NULL|                                           NULL|                         NULL|         NULL|         NULL|         NULL|                                   NULL|                                     NULL|                        NULL|                          NULL|                                     NULL|                                       NULL|                 NULL|                   NULL|                   NULL|                         NULL|                           NULL|         NULL|                NULL|            NULL|                NULL|                                                                  NULL|                                                                    NULL|\n",
            "|       1225|                                NULL|                               NULL|                                                                                       NULL|                                                                                     NULL|                                                                          NULL|                                                                                    NULL|                                                                                 NULL|                                                                               NULL|                NULL|                NULL|                      NULL|                                             NULL|                NULL|                NULL|                                   NULL|                           NULL|                             NULL|              NULL|                4012|      NULL|             NULL|                       NULL|                           NULL|      NULL|                NULL|                 NULL|                                       NULL|                         NULL|         NULL|         NULL|          NULL|        NULL|               0.032|                0.13|                   49.66|                 30.29|                          NULL|        NULL|                NULL|                                      NULL|                                      NULL|                NULL|                               NULL|                 NULL|                NULL|                NULL|                  NULL|                NULL|                NULL|                NULL|         NULL|          NULL|                         NULL|                           NULL|                                           NULL|                         NULL|         NULL|         NULL|         NULL|                                   NULL|                                     NULL|                        NULL|                          NULL|                                     NULL|                                       NULL|                 NULL|                   NULL|                   NULL|                         NULL|                           NULL|         NULL|                NULL|            NULL|                NULL|                                                                  NULL|                                                                    NULL|\n",
            "|       1226|                                NULL|                               NULL|                                                                                       NULL|                                                                                     NULL|                                                                          NULL|                                                                                    NULL|                                                                                 NULL|                                                                               NULL|                NULL|                NULL|                      NULL|                                             NULL|                NULL|                NULL|                                   NULL|                           NULL|                             NULL|              NULL|                4021|      NULL|             NULL|                       NULL|                           NULL|      NULL|                NULL|                 NULL|                                       NULL|                         NULL|         NULL|         NULL|          NULL|        NULL|               0.032|                0.12|                   -9.56|                 33.48|                          NULL|        NULL|                NULL|                                      NULL|                                      NULL|                NULL|                               NULL|                 NULL|                NULL|                NULL|                  NULL|                NULL|                NULL|                NULL|         NULL|          NULL|                         NULL|                           NULL|                                           NULL|                         NULL|         NULL|         NULL|         NULL|                                   NULL|                                     NULL|                        NULL|                          NULL|                                     NULL|                                       NULL|                 NULL|                   NULL|                   NULL|                         NULL|                           NULL|         NULL|                NULL|            NULL|                NULL|                                                                  NULL|                                                                    NULL|\n",
            "|       1227|                                NULL|                               NULL|                                                                                       NULL|                                                                                     NULL|                                                                          NULL|                                                                                    NULL|                                                                                 NULL|                                                                               NULL|                NULL|                NULL|                      NULL|                                             NULL|                NULL|                NULL|                                   NULL|                           NULL|                             NULL|              NULL|                4029|      NULL|             NULL|                       NULL|                           NULL|      NULL|                NULL|                 NULL|                                       NULL|                         NULL|         NULL|         NULL|          NULL|        NULL|               0.029|                0.12|                    0.01|                 29.86|                          NULL|        NULL|                NULL|                                      NULL|                                      NULL|                NULL|                               NULL|                 NULL|                NULL|                NULL|                  NULL|                NULL|                NULL|                NULL|         NULL|          NULL|                         NULL|                           NULL|                                           NULL|                         NULL|         NULL|         NULL|         NULL|                                   NULL|                                     NULL|                        NULL|                          NULL|                                     NULL|                                       NULL|                 NULL|                   NULL|                   NULL|                         NULL|                           NULL|         NULL|                NULL|            NULL|                NULL|                                                                  NULL|                                                                    NULL|\n",
            "+-----------+------------------------------------+-----------------------------------+-------------------------------------------------------------------------------------------+-----------------------------------------------------------------------------------------+------------------------------------------------------------------------------+----------------------------------------------------------------------------------------+-------------------------------------------------------------------------------------+-----------------------------------------------------------------------------------+--------------------+--------------------+--------------------------+-------------------------------------------------+--------------------+--------------------+---------------------------------------+-------------------------------+---------------------------------+------------------+--------------------+----------+-----------------+---------------------------+-------------------------------+----------+--------------------+---------------------+-------------------------------------------+-----------------------------+-------------+-------------+--------------+------------+--------------------+--------------------+------------------------+----------------------+------------------------------+------------+--------------------+------------------------------------------+------------------------------------------+--------------------+-----------------------------------+---------------------+--------------------+--------------------+----------------------+--------------------+--------------------+--------------------+-------------+--------------+-----------------------------+-------------------------------+-----------------------------------------------+-----------------------------+-------------+-------------+-------------+---------------------------------------+-----------------------------------------+----------------------------+------------------------------+-----------------------------------------+-------------------------------------------+---------------------+-----------------------+-----------------------+-----------------------------+-------------------------------+-------------+--------------------+----------------+--------------------+----------------------------------------------------------------------+------------------------------------------------------------------------+\n",
            "only showing top 20 rows\n",
            "\n"
          ]
        }
      ]
    },
    {
      "cell_type": "code",
      "source": [
        "data.count() #numero de linhas"
      ],
      "metadata": {
        "colab": {
          "base_uri": "https://localhost:8080/"
        },
        "id": "CMyP1AF6cRLJ",
        "outputId": "f8d2e069-05bf-4bc8-94fa-122db5488ebe"
      },
      "execution_count": 13,
      "outputs": [
        {
          "output_type": "execute_result",
          "data": {
            "text/plain": [
              "841"
            ]
          },
          "metadata": {},
          "execution_count": 13
        }
      ]
    },
    {
      "cell_type": "code",
      "source": [
        "data.columns #lista python de todas as colunas"
      ],
      "metadata": {
        "colab": {
          "base_uri": "https://localhost:8080/"
        },
        "id": "tQOahysHcUFp",
        "outputId": "53fc8219-4b87-44f2-9da2-537919f0a51f"
      },
      "execution_count": 14,
      "outputs": [
        {
          "output_type": "execute_result",
          "data": {
            "text/plain": [
              "['Description',\n",
              " 'Real GDP of England at market prices',\n",
              " 'Real GDP of England at factor cost ',\n",
              " 'Real UK GDP at market prices, geographically-consistent estimate based on post-1922 borders',\n",
              " 'Real UK GDP at factor cost, geographically-consistent estimate based on post-1922 borders',\n",
              " 'Index of real UK GDP at factor cost - based on changing political boundaries, ',\n",
              " 'Composite estimate of English and (geographically-consistent) UK real GDP at factor cost',\n",
              " 'HP-filter of log of real composite estimate of English and UK real GDP at factor cost',\n",
              " 'Real UK gross disposable national income at market prices, constant border estimate',\n",
              " 'Real consumption',\n",
              " 'Real investment',\n",
              " 'Stockbuilding contribution',\n",
              " 'Real government consumption of goods and services',\n",
              " 'Export volumes',\n",
              " 'Import volumes',\n",
              " 'Nominal GDP of England at market prices',\n",
              " 'Nominal UK GDP at market prices',\n",
              " 'Nominal UK GDP at market prices.1',\n",
              " 'Population (GB+NI)',\n",
              " 'Population (England)',\n",
              " 'Employment',\n",
              " 'Unemployment rate',\n",
              " 'Average weekly hours worked',\n",
              " 'Capital Services, whole economy',\n",
              " 'TFP growth',\n",
              " 'Labour productivity',\n",
              " 'Labour productivity.1',\n",
              " 'Labour share, whole economy excluding rents',\n",
              " 'GDP deflator at market prices',\n",
              " 'Export prices',\n",
              " 'Import prices',\n",
              " 'Terms of Trade',\n",
              " '$ Oil prices',\n",
              " 'Earnings per head',\n",
              " 'Consumer price index',\n",
              " 'Consumer price inflation',\n",
              " 'Real consumption wages',\n",
              " 'Wholesale/producer price index',\n",
              " 'Bank Rate',\n",
              " 'Bank Rate.1',\n",
              " '10 year/medium-term government bond yields',\n",
              " 'Consols / long-term government bond yields',\n",
              " 'Mortgage rates',\n",
              " 'Corporate borrowing rate from banks',\n",
              " 'Corporate bond yields',\n",
              " 'Share prices',\n",
              " '$/£ exchange rate',\n",
              " 'Real $/£ exchange rate',\n",
              " 'Nominal ERI',\n",
              " 'Real ERI',\n",
              " 'House price index',\n",
              " 'Credit ',\n",
              " 'Secured credit',\n",
              " 'Bank of England Balance sheet',\n",
              " 'Bank of England Balance sheet.1',\n",
              " 'Coin in circulation outside the Bank of England',\n",
              " 'Notes and coin in circulation',\n",
              " 'Monetary base',\n",
              " 'M1',\n",
              " 'Broad Money ',\n",
              " 'Public sector Total Managed Expenditure',\n",
              " 'Public sector Total Managed Expenditure.1',\n",
              " 'Public Sector Total Receipts',\n",
              " 'Public Sector Total Receipts.1',\n",
              " 'Public Sector Net Lending(+)/Borrowing(-)',\n",
              " 'Public Sector Net Lending(+)/Borrowing(-).1',\n",
              " 'UK Public sector debt',\n",
              " 'UK Public sector debt.1',\n",
              " 'UK Public sector debt.2',\n",
              " 'Central Government Gross Debt',\n",
              " 'Central Government Gross Debt.1',\n",
              " 'Trade deficit',\n",
              " 'Trade deficit.1',\n",
              " 'Current account ',\n",
              " 'Current account .1',\n",
              " 'Current account deficit including estimated non-monetary bullion flows',\n",
              " 'Current account deficit including estimated non-monetary bullion flows.1']"
            ]
          },
          "metadata": {},
          "execution_count": 14
        }
      ]
    },
    {
      "cell_type": "code",
      "source": [
        "len(data.columns) #quantidade de colunas"
      ],
      "metadata": {
        "colab": {
          "base_uri": "https://localhost:8080/"
        },
        "id": "pTU2-nKncX_v",
        "outputId": "8f9d7322-6810-44b3-ec23-308ba35b8c63"
      },
      "execution_count": 15,
      "outputs": [
        {
          "output_type": "execute_result",
          "data": {
            "text/plain": [
              "77"
            ]
          },
          "metadata": {},
          "execution_count": 15
        }
      ]
    },
    {
      "cell_type": "code",
      "source": [
        "data = data.select([\"Description\", \"Population (GB+NI)\", \"Unemployment rate\"])"
      ],
      "metadata": {
        "id": "IxL2YGDgcemt"
      },
      "execution_count": 16,
      "outputs": []
    },
    {
      "cell_type": "code",
      "source": [
        "#renomear as colunas\n",
        "\n",
        "data = data.\\\n",
        "  withColumnRenamed(\"Description\", 'year').\\\n",
        "  withColumnRenamed(\"Population (GB+NI)\", \"population\").\\\n",
        "  withColumnRenamed(\"Unemployment rate\", \"unemployment_rate\")"
      ],
      "metadata": {
        "id": "UkU_qbqbcrZu"
      },
      "execution_count": 17,
      "outputs": []
    },
    {
      "cell_type": "code",
      "source": [
        "data.show(n=10) #equivalente a data.head\n",
        "\n",
        "#a primeira linha está errada e para não dar inconsistencia, deveremos descartá-la"
      ],
      "metadata": {
        "colab": {
          "base_uri": "https://localhost:8080/"
        },
        "id": "bByB7ZFmct1l",
        "outputId": "fafeb16f-e861-46c4-bdb9-9dce835b9c84"
      },
      "execution_count": 18,
      "outputs": [
        {
          "output_type": "stream",
          "name": "stdout",
          "text": [
            "+-----+----------+-----------------+\n",
            "| year|population|unemployment_rate|\n",
            "+-----+----------+-----------------+\n",
            "|Units|      000s|                %|\n",
            "| 1209|      NULL|             NULL|\n",
            "| 1210|      NULL|             NULL|\n",
            "| 1211|      NULL|             NULL|\n",
            "| 1212|      NULL|             NULL|\n",
            "| 1213|      NULL|             NULL|\n",
            "| 1214|      NULL|             NULL|\n",
            "| 1215|      NULL|             NULL|\n",
            "| 1216|      NULL|             NULL|\n",
            "| 1217|      NULL|             NULL|\n",
            "+-----+----------+-----------------+\n",
            "only showing top 10 rows\n",
            "\n"
          ]
        }
      ]
    },
    {
      "cell_type": "code",
      "source": [
        "data_description = data.filter(data['year'] == 'Units')"
      ],
      "metadata": {
        "id": "qPT94MSYcwKf"
      },
      "execution_count": 19,
      "outputs": []
    },
    {
      "cell_type": "code",
      "source": [
        "data_description.show(n=10)\n",
        "\n",
        "#pegamos essa linha e colocamos em um novo DF"
      ],
      "metadata": {
        "colab": {
          "base_uri": "https://localhost:8080/"
        },
        "id": "_hDyx-0mc6IP",
        "outputId": "4e79b3b2-c30b-4ce1-fce6-686647c2d139"
      },
      "execution_count": 20,
      "outputs": [
        {
          "output_type": "stream",
          "name": "stdout",
          "text": [
            "+-----+----------+-----------------+\n",
            "| year|population|unemployment_rate|\n",
            "+-----+----------+-----------------+\n",
            "|Units|      000s|                %|\n",
            "+-----+----------+-----------------+\n",
            "\n"
          ]
        }
      ]
    },
    {
      "cell_type": "code",
      "source": [
        "(data.count(), len(data.columns)) #DF original"
      ],
      "metadata": {
        "colab": {
          "base_uri": "https://localhost:8080/"
        },
        "id": "KSbhH4t4c_6g",
        "outputId": "d6eaeac2-9f66-4191-c216-7bf09d48aeca"
      },
      "execution_count": 21,
      "outputs": [
        {
          "output_type": "execute_result",
          "data": {
            "text/plain": [
              "(841, 3)"
            ]
          },
          "metadata": {},
          "execution_count": 21
        }
      ]
    },
    {
      "cell_type": "code",
      "source": [
        "(data_description.count(), len(data_description.columns)) #DF criado com a linha inconsistente"
      ],
      "metadata": {
        "colab": {
          "base_uri": "https://localhost:8080/"
        },
        "id": "KzH--v1IdCUx",
        "outputId": "61671ef2-a2f0-456f-acff-3c7b2c47bd24"
      },
      "execution_count": 22,
      "outputs": [
        {
          "output_type": "execute_result",
          "data": {
            "text/plain": [
              "(1, 3)"
            ]
          },
          "metadata": {},
          "execution_count": 22
        }
      ]
    },
    {
      "cell_type": "markdown",
      "source": [
        " - PySpark"
      ],
      "metadata": {
        "id": "yswaBr3JkxHq"
      }
    },
    {
      "cell_type": "code",
      "source": [
        "from pyspark.sql.functions import broadcast"
      ],
      "metadata": {
        "id": "p-Bx-ApcdFqV"
      },
      "execution_count": 23,
      "outputs": []
    },
    {
      "cell_type": "code",
      "source": [
        "data = data.join(other=broadcast(data_description), on=['year'], how='left_anti') #pega o DF original + DF criado e extrai o que é comum nos dois (a linha com inconsistência)"
      ],
      "metadata": {
        "id": "Z5L6qJBqdIq7"
      },
      "execution_count": 24,
      "outputs": []
    },
    {
      "cell_type": "code",
      "source": [
        "data.show(n=10)"
      ],
      "metadata": {
        "colab": {
          "base_uri": "https://localhost:8080/"
        },
        "id": "4kjEsrNqdLCR",
        "outputId": "3fb94b66-a9b3-4e1e-bcb3-9ca689587286"
      },
      "execution_count": 25,
      "outputs": [
        {
          "output_type": "stream",
          "name": "stdout",
          "text": [
            "+----+----------+-----------------+\n",
            "|year|population|unemployment_rate|\n",
            "+----+----------+-----------------+\n",
            "|1209|      NULL|             NULL|\n",
            "|1210|      NULL|             NULL|\n",
            "|1211|      NULL|             NULL|\n",
            "|1212|      NULL|             NULL|\n",
            "|1213|      NULL|             NULL|\n",
            "|1214|      NULL|             NULL|\n",
            "|1215|      NULL|             NULL|\n",
            "|1216|      NULL|             NULL|\n",
            "|1217|      NULL|             NULL|\n",
            "|1218|      NULL|             NULL|\n",
            "+----+----------+-----------------+\n",
            "only showing top 10 rows\n",
            "\n"
          ]
        }
      ]
    },
    {
      "cell_type": "code",
      "source": [
        "data = data.dropna()"
      ],
      "metadata": {
        "id": "CFIj2vCWdNcu"
      },
      "execution_count": 26,
      "outputs": []
    },
    {
      "cell_type": "code",
      "source": [
        "data = data.withColumn('century', 1 + (data['year']/100).cast('int'))"
      ],
      "metadata": {
        "id": "uCGckdlKdQsF"
      },
      "execution_count": 27,
      "outputs": []
    },
    {
      "cell_type": "code",
      "source": [
        "data.select(['century', 'year']).groupBy('century').agg({'year': 'count'}).show() #vou contar quantos anos tem em cada um dos séculos citados"
      ],
      "metadata": {
        "colab": {
          "base_uri": "https://localhost:8080/"
        },
        "id": "h-ZpSycEdTsT",
        "outputId": "85f03bd7-2983-4acb-9af0-5e865fa33851"
      },
      "execution_count": 28,
      "outputs": [
        {
          "output_type": "stream",
          "name": "stdout",
          "text": [
            "+-------+-----------+\n",
            "|century|count(year)|\n",
            "+-------+-----------+\n",
            "|     20|        100|\n",
            "|     19|         45|\n",
            "|     21|         17|\n",
            "+-------+-----------+\n",
            "\n"
          ]
        }
      ]
    },
    {
      "cell_type": "code",
      "source": [
        "timing = data.select(['century', 'year']).groupBy('century').agg({'year': 'count'}).collect() #coleta os resultados do cluster e traz para o python"
      ],
      "metadata": {
        "id": "_z7FrhzndXFG"
      },
      "execution_count": 29,
      "outputs": []
    },
    {
      "cell_type": "code",
      "source": [
        "timing"
      ],
      "metadata": {
        "colab": {
          "base_uri": "https://localhost:8080/"
        },
        "id": "4f80adaDdaGL",
        "outputId": "e8166b45-2205-4cde-a1d7-46589caf5ac2"
      },
      "execution_count": 30,
      "outputs": [
        {
          "output_type": "execute_result",
          "data": {
            "text/plain": [
              "[Row(century=20, count(year)=100),\n",
              " Row(century=19, count(year)=45),\n",
              " Row(century=21, count(year)=17)]"
            ]
          },
          "metadata": {},
          "execution_count": 30
        }
      ]
    },
    {
      "cell_type": "code",
      "source": [
        "data.repartition('century').write.csv(path=\"uk-macroeconomic-data-clean\", sep=\",\", header=True, mode=\"overwrite\") #escreve o resultado em um arquivo csv e combina com repartition de nossos dados"
      ],
      "metadata": {
        "id": "XIkPE89fdfvY"
      },
      "execution_count": 31,
      "outputs": []
    },
    {
      "cell_type": "code",
      "source": [
        "# Ordenar os dados por ano em ordem decrescente\n",
        "\n",
        "ordered_data = data.orderBy(data['year'].desc())"
      ],
      "metadata": {
        "id": "8_ypzS8NdlkT"
      },
      "execution_count": 32,
      "outputs": []
    },
    {
      "cell_type": "code",
      "source": [
        "# Selecionar as colunas de interesse e mostrar os resultados\n",
        "\n",
        "ordered_data.select(['year', 'population', 'unemployment_rate']).show()"
      ],
      "metadata": {
        "colab": {
          "base_uri": "https://localhost:8080/"
        },
        "id": "j4vBVQm-gz8S",
        "outputId": "1ee188c7-7540-43f4-a606-e0421e2939b3"
      },
      "execution_count": 33,
      "outputs": [
        {
          "output_type": "stream",
          "name": "stdout",
          "text": [
            "+----+----------+-----------------+\n",
            "|year|population|unemployment_rate|\n",
            "+----+----------+-----------------+\n",
            "|2016|     65573|             4.90|\n",
            "|2015|     65110|             5.38|\n",
            "|2014|     64597|             6.18|\n",
            "|2013|     64106|             7.61|\n",
            "|2012|     63705|             7.97|\n",
            "|2011|     63285|             8.11|\n",
            "|2010|     62759|             7.87|\n",
            "|2009|     62260|             7.61|\n",
            "|2008|     61824|             5.69|\n",
            "|2007|     61319|             5.33|\n",
            "|2006|     60827|             5.42|\n",
            "|2005|     60413|             4.83|\n",
            "|2004|     59950|             4.75|\n",
            "|2003|     59637|             5.01|\n",
            "|2002|     59366|             5.19|\n",
            "|2001|     59113|             5.10|\n",
            "|2000|     58886|             5.46|\n",
            "|1999|     58684|             5.98|\n",
            "|1998|     58475|             6.26|\n",
            "|1997|     58314|             6.97|\n",
            "+----+----------+-----------------+\n",
            "only showing top 20 rows\n",
            "\n"
          ]
        }
      ]
    },
    {
      "cell_type": "code",
      "source": [
        "# Salvar o resultado em um arquivo CSV\n",
        "\n",
        "ordered_data.write.csv(path=\"uk-macroeconomic-data-ordered\", sep=\",\", header=True, mode=\"overwrite\"  )"
      ],
      "metadata": {
        "id": "3KwhZSCJhDaF"
      },
      "execution_count": 34,
      "outputs": []
    }
  ]
}