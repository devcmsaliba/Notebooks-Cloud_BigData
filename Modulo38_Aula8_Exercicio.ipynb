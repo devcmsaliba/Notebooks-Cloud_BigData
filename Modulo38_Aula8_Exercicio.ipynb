{
  "nbformat": 4,
  "nbformat_minor": 0,
  "metadata": {
    "colab": {
      "provenance": [],
      "collapsed_sections": [
        "JG1HL69-j0lH",
        "s_Dj-BgThLg5",
        "jeEzLmuRhDQy",
        "PoTeRwlihDQ0",
        "QpMlxqRyhDQ1",
        "ov7Fg-mWhDQ1",
        "DvHPNAoPgdiG",
        "3SMp5GwjglJm",
        "e3ieQfXTgqd3",
        "L0pKWNr5fm9z",
        "DMhCpOU_gupo",
        "l3h0WP2Eg2ht",
        "rWG4Vk6XaWtf",
        "wkibgd8rB8y3",
        "IjPaJtnYE0MI",
        "2lpj1rszc--m",
        "HnWg_mhLd5gC",
        "RhqmXiHQo-is",
        "SvT9xrajLL7J",
        "91eSyA2cLLqv"
      ],
      "toc_visible": true
    },
    "kernelspec": {
      "name": "python3",
      "display_name": "Python 3"
    }
  },
  "cells": [
    {
      "cell_type": "markdown",
      "metadata": {
        "id": "KJqp9AANOCtf"
      },
      "source": [
        "<img src=\"https://raw.githubusercontent.com/andre-marcos-perez/ebac-course-utils/main/media/logo/newebac_logo_black_half.png\" alt=\"ebac-logo\">\n",
        "\n",
        "---\n",
        "\n",
        "# **Módulo** | Computação em Nuvem II\n",
        "Caderno de **Exercícios**<br>\n",
        "Professor [André Perez](https://www.linkedin.com/in/andremarcosperez/)\n",
        "\n",
        "---"
      ]
    },
    {
      "cell_type": "markdown",
      "metadata": {
        "id": "d9jDtUbDOE1-"
      },
      "source": [
        "# **Tópicos**\n",
        "\n",
        "<ol type=\"1\">\n",
        "  <li>AWS Lambda;</li>\n",
        "  <li>AWS Step Functions;</li>\n",
        "  <li>AWS EventBridge.</li>\n",
        "</ol>"
      ]
    },
    {
      "cell_type": "markdown",
      "metadata": {
        "id": "SmoHgt-lwkpD"
      },
      "source": [
        "---"
      ]
    },
    {
      "cell_type": "markdown",
      "metadata": {
        "id": "GABI6OW8OfQ2"
      },
      "source": [
        "# **Exercícios**"
      ]
    },
    {
      "cell_type": "markdown",
      "metadata": {
        "id": "ne7Ay0HKaGSv"
      },
      "source": [
        "## 1\\. AWS Lambda"
      ]
    },
    {
      "cell_type": "markdown",
      "metadata": {
        "id": "OQxOVktrzG9I"
      },
      "source": [
        "Replique as atividades do item 1.3 em sua conta."
      ]
    },
    {
      "cell_type": "markdown",
      "source": [
        "Acessei o Lambda do AWS com criação de uma função do zero e o nome da função será: modulo38-ebac-cinthia\n",
        "\n",
        "Linguagem Python 3.10 que é o python compatível com o google colab"
      ],
      "metadata": {
        "id": "i8u-o3c9tHbL"
      }
    },
    {
      "cell_type": "markdown",
      "source": [
        "Criei dois buckets no S3:\n",
        "\n",
        "modulo38-ebac-cinthia-bronze\n",
        "modulo38-ebac-cinthia-silver"
      ],
      "metadata": {
        "id": "zoA8Gh6my3r5"
      }
    },
    {
      "cell_type": "code",
      "source": [
        "# Extrair dados da site da BCB através de uma API\n",
        "\n",
        "import json\n",
        "from datetime import datetime\n",
        "import requests\n",
        "\n",
        "# -- setup\n",
        "URL = 'https://api.bcb.gov.br/dados/serie/bcdata.sgs.11/dados?formato=json&dataInicial=01/07/2024&dataFinal=02/07/2024'\n",
        "\n",
        "# -- extract\n",
        "try:\n",
        "    response = requests.get(URL)\n",
        "    response.raise_for_status()\n",
        "except requests.exceptions.RequestException as exc:\n",
        "    raise SystemExit(exc)\n",
        "else:\n",
        "    data = json.loads(response.text)\n",
        "\n",
        "# -- transform\n",
        "transformed_data = []\n",
        "\n",
        "for record in data:\n",
        "    transformed_record = {\n",
        "        'taxa': record['valor'].replace(',', '.'),\n",
        "        'dataTaxa': datetime.strptime(record['data'], '%d/%m/%Y').strftime('%Y-%m-%d'),\n",
        "    }\n",
        "    transformed_data.append(transformed_record)\n",
        "\n",
        "# Convert data to CSV format\n",
        "csv_data = '\\n'.join([','.join([record['taxa'], record['dataTaxa']]) for record in transformed_data])\n",
        "\n",
        "example_record = transformed_data[0]\n",
        "print(f\"taxa: {example_record['taxa']}, dataTaxa: {example_record['dataTaxa']}\")\n",
        "\n",
        "with open('transformed_data.csv', 'w') as f:\n",
        "    f.write('taxa,dataTaxa\\n')\n",
        "    f.write(csv_data)\n",
        "\n",
        "print('CSV file saved successfully.')"
      ],
      "metadata": {
        "id": "9MSmqaBzroTX"
      },
      "execution_count": null,
      "outputs": []
    },
    {
      "cell_type": "markdown",
      "source": [
        "Usaremos o pacote Python boto3, o SDK (software development kit) da AWS para interação com os serviços da plataforma\n",
        "\n",
        "    import boto3\n",
        "\n",
        "    client = boto3.client('s3')\n",
        "    client.upload_file(Filename='<nome-do-arquivo>', Bucket='<nome-do-bucket>', Key='<nome-do-objeto>')\n",
        "\n",
        "    client = boto3.client('athena')\n",
        "    client.start_query_execution(\n",
        "      QueryString='SELECT * FROM <nome-da-tabela> LIMIT 10',\n",
        "      ResultConfiguration={'OutputLocation': 's3://modulo37-ebac-cinthia-results/'}"
      ],
      "metadata": {
        "id": "vPdcqOgy4-Qj"
      }
    },
    {
      "cell_type": "code",
      "source": [
        "# AWS Lambda para bucket bronze\n",
        "\n",
        "import json\n",
        "import logging\n",
        "from datetime import datetime\n",
        "\n",
        "import boto3\n",
        "import urllib3\n",
        "from botocore.exceptions import ClientError\n",
        "\n",
        "\n",
        "def lambda_handler(event, context) -> bool:\n",
        "\n",
        "  # -- setup\n",
        "\n",
        "  URL = 'https://api.bcb.gov.br/dados/serie/bcdata.sgs.11/dados?formato=json&dataInicial=01/07/2024&dataFinal=02/07/2024'\n",
        "  BRONZE_BUCKET = 'modulo38-ebac-cinthia-bronze'\n",
        "\n",
        "  client = boto3.client('s3')\n",
        "\n",
        "  date = datetime.now().strftime('%Y-%m-%d')\n",
        "  filename_json = f'stock-exchange-{date}.json'\n",
        "\n",
        "  # -- extract\n",
        "\n",
        "  try:\n",
        "    http = urllib3.PoolManager()\n",
        "    response = http.request(url=URL, method='get')\n",
        "  except Exception as exc:\n",
        "    raise exc\n",
        "  else:\n",
        "    data = json.loads(response.data.decode())\n",
        "    logging.info(msg=data)\n",
        "\n",
        "  # -- transform\n",
        "\n",
        "  ...\n",
        "\n",
        "  # -- load\n",
        "\n",
        "  try:\n",
        "      with open(f'/tmp/{filename_json}', mode='w', encoding='utf8') as fp:\n",
        "          json.dump(data, fp)\n",
        "      client.upload_file(Filename=f'/tmp/{filename_json}', Bucket=BRONZE_BUCKET, Key=filename_json)\n",
        "  except ClientError as exc:\n",
        "      raise exc\n",
        "\n",
        "  return json.dumps(dict(status=True))"
      ],
      "metadata": {
        "id": "BmhPuGUWrzPT"
      },
      "execution_count": null,
      "outputs": []
    },
    {
      "cell_type": "code",
      "source": [
        "# AWS Lambda para bucket silver\n",
        "\n",
        "import json\n",
        "from datetime import datetime\n",
        "\n",
        "import boto3\n",
        "from botocore.exceptions import ClientError\n",
        "\n",
        "\n",
        "def lambda_handler(event, context) -> bool:\n",
        "    # -- setup\n",
        "    BRONZE_BUCKET = 'modulo38-ebac-cinthia-bronze'\n",
        "    SILVER_BUCKET = 'modulo38-ebac-cinthia-silver'\n",
        "\n",
        "    client = boto3.client('s3')\n",
        "\n",
        "    date = datetime.now().strftime('%Y-%m-%d')\n",
        "    filename_csv = f'stock-exchange-{date}.csv'\n",
        "    filename_json = f'stock-exchange-{date}.json'\n",
        "\n",
        "    # -- extract\n",
        "    client.download_file(BRONZE_BUCKET, filename_json, f'/tmp/{filename_json}')\n",
        "\n",
        "    with open(f\"/tmp/{filename_json}\", mode='r', encoding='utf8') as fp:\n",
        "        data = json.load(fp)\n",
        "\n",
        "    # -- transform\n",
        "    transformed_data = []\n",
        "\n",
        "    for record in data:\n",
        "        transformed_record = {\n",
        "            'taxa': record['valor'].replace(',', '.'),\n",
        "            'dataTaxa': datetime.strptime(record['data'], '%d/%m/%Y').strftime('%Y-%m-%d'),\n",
        "        }\n",
        "        transformed_data.append(transformed_record)\n",
        "\n",
        "    # -- load\n",
        "    try:\n",
        "        with open(f'/tmp/{filename_csv}', mode='w', encoding='utf8') as fp:\n",
        "            fp.write('taxa,dataTaxa\\n')\n",
        "            for record in transformed_data:\n",
        "                fp.write(f\"{record['taxa']},{record['dataTaxa']}\\n\")\n",
        "        client.upload_file(Filename=f'/tmp/{filename_csv}', Bucket=SILVER_BUCKET, Key=f'data_referencia={date}/{filename_csv}')\n",
        "    except ClientError as exc:\n",
        "        raise exc\n",
        "\n",
        "    return json.dumps(dict(status=True))"
      ],
      "metadata": {
        "id": "gDe3DHNhr43b"
      },
      "execution_count": null,
      "outputs": []
    },
    {
      "cell_type": "code",
      "source": [
        "# AWS Lambda para tabela - modulo38-ebac-cinthia-table\n",
        "\n",
        "import json\n",
        "from datetime import datetime\n",
        "\n",
        "import boto3\n",
        "from botocore.exceptions import ClientError\n",
        "\n",
        "\n",
        "def lambda_handler(event, context) -> bool:\n",
        "\n",
        "  # -- setup\n",
        "\n",
        "  SILVER_BUCKET = 'modulo-39-ebac-silver'\n",
        "\n",
        "  query = f\"\"\"\n",
        "  CREATE EXTERNAL TABLE IF NOT EXISTS cdi (\n",
        "    taxa double,\n",
        "    dataTaxa string\n",
        "  )\n",
        "  PARTITIONED BY (\n",
        "    data_referencia string\n",
        "  )\n",
        "  ROW FORMAT SERDE 'org.apache.hadoop.hive.serde2.OpenCSVSerde'\n",
        "  WITH SERDEPROPERTIES ('separatorChar'=',')\n",
        "  LOCATION 's3://{SILVER_BUCKET}/'\n",
        "  \"\"\"\n",
        "\n",
        "  client = boto3.client('athena')\n",
        "\n",
        "  # -- create\n",
        "\n",
        "  try:\n",
        "    client.start_query_execution(\n",
        "      QueryString=query,\n",
        "      ResultConfiguration={'OutputLocation': 's3://modulo37-ebac-cinthia-results/'}\n",
        "    )\n",
        "  except ClientError as exc:\n",
        "    raise exc\n",
        "\n",
        "  # -- update\n",
        "\n",
        "  try:\n",
        "    client.start_query_execution(\n",
        "      QueryString='MSCK REPAIR TABLE cdi',\n",
        "      ResultConfiguration={'OutputLocation': 's3://modulo37-ebac-cinthia-results/'}\n",
        "    )\n",
        "  except ClientError as exc:\n",
        "    raise exc\n",
        "\n",
        "  return json.dumps(dict(status=True))"
      ],
      "metadata": {
        "id": "9o2DRx5ZsBGM"
      },
      "execution_count": null,
      "outputs": []
    },
    {
      "cell_type": "markdown",
      "metadata": {
        "id": "EvJTE2FpaGeU"
      },
      "source": [
        "## 2\\. AWS Step Functions"
      ]
    },
    {
      "cell_type": "markdown",
      "metadata": {
        "id": "ISYXZbomlb1x"
      },
      "source": [
        "Replique as atividades do item 2.3 em sua conta.\n"
      ]
    },
    {
      "cell_type": "markdown",
      "source": [
        "![image.png](data:image/png;base64,iVBORw0KGgoAAAANSUhEUgAAARMAAAE5CAIAAAA8/FO/AAAgAElEQVR4Ae29CVgUx9ov/iUxq/uGIedw8N4v0fs/6sn9/Ejy5WruNYeTq+Gfx/NkMTloFhI3jIIQFVFBUEGDKBj2RbYgMiCyyT6KC4hBQBBGQQYYZlhnhhlmWGcB+j7dPdPd09PTDAk9M0rx9KM9VdVVb/3q/c1bb9VbPf8GgT+AAEBg6gj829QfAU8ABAACEGAOUAKAwO9BAGeOWj2mVKrGx8dJ1SiVKpVKRUoEhYmAADRmIBo4cwYHh0UiiVKpQ5KJiQmRSCKVyojQQBAEChMBAWjMQDRw5igUysHBYbV6jIgCSpLh4VFSIihMBASgMQPRwJlD7Dy4BwgABOgRAMyhxwfkAgSoEQDMocYFpAIE6BEAzKHHB+QCBKgRAMyhxgWkAgToEcCZMzw8IpHIVCo18YGJiQmJRCaTDRATIQgChYmAADRmIBo4c8CmBHH4ARoADfrNTJw5EARNTEwQ8ULvJ+A//WRQWAcTSowAdESMnjE0dJhD7Ce4BwgABGgQAMyhAQdkAQQMIgCYYxAaM2ZIpf18fkdLK4/P75D2k4MGzSgYaBpDADAHg8LMNyKRuLi4KDOTVZDPqryX3cQpaH1S1MQpqLyXXZDPysxkFRcXiURiM0sJmtcigDMHhMprMYH/NyUaLa28zKz08juZyqFKSFlt6FIOVZbfyczMSm9p5YGjH8TBMgsaOHPAOixxMEyDxtjYWE5uZuW9bENsoUyvvJd95QpLLJYQBQZHP0yMBs4cECpPhN4EaPD5HdlZqSpaO0PJHEhZrRyqzLyawud3mFhmYnMz/AQKzhwSKOAjowg0Nj0pyGcZIoaR6QX5rKamJ4zKCSo3hABgjiFkGEzn8zv+OG1QdhXks0iWh0G5QdUEBABzCGCY5HZsbCw7K9VIq2JMseys1LEx8klek3RlRjcCmGPq4c/JnWQNzRi2EMsohypzcjNN3Y0Z3x5gjklVoKWVN9WVNCJJDN1X3stuaeWZtCczvjGcOSBUnqgMDKGRmZVuSPv/YHpmVjpDMoNDJUTFwNDAmWOaHQxMCPoQ7mfy5VUikbi8LPMPMsTQ4+Vlmbz2DvDeL0zBmNZnnDnglAEGOnoz7QcHiouL6KMEDLHCmHTlUGVxcdG0y4xhAmrGoECZosMcYh64n3YEMjP/6AYOPYXg+sGfqRAAzDEV0hBEvYczcLvpZmjuzSyZ1GDEGj1hsFy4fvBnKgQAc0yEtFTaT7GqNpx+av17+2JDc1O8jsXDiwe9KZ8fY09CoUq/z2NaKMpU3suWSvtN1J8Z3wxgjolUgM/vaOIUYPZBc9Pi9cF/eTRh8dHt8ac2L//bZ9/ti08fvX/m2P7NWxy/C7x5G1Kyi8POV5adOBYQxX90fsd/LP/A6bvAQjaptiZOAYgnMNFwQoRfATFlXD3aPbMEh5vrxxpaWnmtT4pIug4pbxfvX/WXNZuO/ZouG66GBm5Xnnjv6xR2r7gCkt4ehVNCv/6r20Nlfuj69w4WZvX2wOnpTu+dusfWn921PilqbOKaq4OYys4QRcJtDtOreM/kQjOqLsZAR21zUGsjzSo+8vdlm8/0KqvbL7y3Iw+ZibWHntr/3b79m/62xLEYZo5jsdY0FTu/F/qEYrbWxCmoq3s0w3HGCGzMoPyRwjhzTBBXjwmKKdzM+ZUEaj9HSwZoOHTHku+Kceawf938XuDDakgZtcNo5lRWZHd09oBfo0C1i2l9xplDUmvwcdoRoFhbazmz5f9s2rH/uy3/9dZHYVmQsno0+/O//NfmHZGXKo+sevfL73bs2Pzun8g2p+nceyscHI9dzSfN/cDa2rQPGU2FgDk04ExzloH9nApZB1s2QDH7GpVWkLhB/xHs50zzgNFWB5hDC8+0ZpoghmBa5QWV0SEAmEOHzvTmMR23Bt6MM73jRV8bYA49PtOcy2is9DTLCqqjRQBnDohRJwLFEBrw+ZyKqb3pht63QXPR8zkMyYzF1YPfuUA1BMUZZw7T699gnwHF/Wrmld/3vhtDFMLOhIIRJH73MY0GzhxwyoCIO3NoMPoeAnAWgDiIjKKhwxxiq+CeOQTAu2+Yw9ZkNQPmmAxqnYbA+9Z04HgKPwDmmG3Q0Hd8/r5TosqhyuysVBAZbbbBI8ZKm1GIGdv0736vdE5uJnjHmnnVBrc5MyQ43AKD8MFvGVjgoKC0pDkIgzOH6VU8sCqNDoYhnJuaWnJzc/R/P+fe3az8vFTi7+fMwNcG0UMnEkmkUvLvcxnCeboK48xhOiobRL+jw28Mzuhvtp3yP89taesEBwdQ4CDIGOi0ZRkvjDMHaxLcWAgC54LCLUQSIIY+AoA5+phYSkp0bJKliALk0EMAMEcPEotJiIpJtBhZgCBkBABzyIhYzmcwW7OcsdCXBDBHHxNLSQHMsZSRoJIDZw6IUSfiYwloREUnWIIY4JQBUTEwNHDmML3+DfZz0AEwHudzQeHGFwa/TU3Sb6ahw5nDXFw9qJk0qEZGv6OzNSMLo02AwkSoGUVDhznEVsG92RGIjE4wuwxAAEMIAOYYQsb86WCFwPxjYFgCwBzD2Jg7BzDH3CNA1z5gDh065s0DzDEv/vSt48wBpwyISFkCGuGRcZYgBgRBQAx93cCZw/QqHliVRtE3HmewKk3UV0tbdseZY1Eh3OBIAgRB54LCwaAQyWNRaODMIYoI7i0BgcRfwe9+WsI4UMsAmEONiyWkghUCSxgFQzIA5hhCxvzpgDnmHwPDEgDmGMbGTDm514rQ65T/eezeTLKAZg0iAJhjEBpzZYj7JDud3YmXuE9iLmFAu4YQwJkDAtqJGJkXjfDIeIw5F0KiwY8IoENj3kHB1AMVA2eO8fsMlray/uztFNXW1WPMuXW74tnrIKaFT6/W4cwBZwGw4URvGI1RJ7WFgj8xgScfOXZqp7P7kWOnzCsGJhAQA4MCHSwd5hDzwL15Eci9VrTT2T33WpF5xQCtG0LARMyR9sv6JFJwGY8At6Vtp7M7t6XN+EdAyT6JVNpPftmnIdX/g+mMM0faLzsfGh2fnJZ0+Yqhq/6Kf/0V/1rWSfhKO1GbdqIu7URduuZ6eOXEwyu+DzN869Hrqm8DemX6NmT6cLK0V7bPI/g6/ijn+OOc449z4asx93jjNfTybsrzbinybSnyNSSGpaUf9HxqRLUc6OKT086HRpuAP4wzJzbxciuPT8/vnpzjnYfmdR2e13V4bveRuT1H5vQem9N7bLbQe7bIe7bYZ7bY57W+E69JTrwqPfWq9NQr/f6vyPxfkZ95ZeDMy4MBLw8GvDQU+NJw4Isj5+FrNPhFRfAs5S+zlL+8oAp9QR36/Fg4fI1HPj8R+dxQ2WF6YSwnd2Bg0HKEeYokaeXxYxMvMy0wzhyGIskDQ6Im7UN3trfg4NyOQ3M7PeZ2HZ7T5Tmn+8icnqOzYfJ4vSbyfk10/DWxz6t9vq9KTrwqOfkKTB6/l2X+L8tOvyw/89LAzy8NBrw0ePbFocAXh8/NGjk/ayRo1mjwC4oLLyh/eUEZ8rwq9Hl12HNj4c+NRTw3dOepYc6kuIEChhAIDIliSJ+xMxc4cxhaHzSOOccFB+Z1HJzXeWhuF0yeud2eiOU5ilger9ki79fEMHle6/NFLM9JxPL4vSLzf1kOk+flgZ8Ry3P2JYQ8L46cnzUaNAu2PBcQyxOCWJ6w58fCAXMMKdszlR4YEsWQPmNbMjhzGArhNoo5Wcf5P80THJhHsDxzuz3n9FBYntcMWJ6XDVieWSTLM3gb2JxniiSUnQkMiWJInyHtTyrgzKGU4I8nGssc9/mCA/Nhy3No3u/zeWDLY4TPM3jb8493CtRg4QgYo3V/sAsWwZyuzOM8t/nt7vP1LA/s81BZnt/v8wzcomCOamBANT5FJNvvZNQOUD3DZyfeaaXKwNPG1fIhNf7RqDs+O4sjN6okKATNHOb48PYvaHdbwHefL/gJsTzT4fPAq23nyD4PFXOEOX4BOd1TVLiaBK88IdUztWFuCfepMvC07mKv2Fr8o1F3tWF+xT1GlQSFZgxzOq/6tLku4O1fQLI8nZrVNtjnGSw5qWwrU7aVqXh3sGuY7UW12kbn88hv6tscEnOk968mh4XFhl2uEIxDUPud1FtVBZdjg8Py73Nrcy4nhCXeaR2BoJoEr8t3ChJjgxNLm4ZgZR3hliZHJ4RdTfBHmDPSeic5MTY4LDmDMwpBnOiDQQVirU5rmDPwIKu0vKY4OSw2OLdpRNFSkFaFcqP1Vka5EFIJq1KjY4Ojc8rhBzXMgVtht6jGBx7kJodFJ6RWSrWVgv9xBGaKzYGZ47KQt38hbHncEcuj5/OMPsqTpe+SXvxYenFTfzx8yRI/Hutvlwb+ZUr7PEYwRz2CTKVarwYEl49CNQkeibViNdR6NcDjcpNqHGpK8w+rgZnjkVgrH4dGKhPcI6tGxmvDjiSUD0HQwJ2zqM1RjMIzQHVVsHcOefKmYY4wxy8kp1MNjfNTTwblCEfLI/1T4aJNcb6shqHaMN+E8gEIGqgIPpnTijCntT3fNyC/FREm+M4AND7ADg5h9+MaA+5QBEzKHIZCuI3pQ0eGT8u+Ba0uCxDLM59kedB9ntFHecLza0n7PEMlx0bKAg2stlHv88hLJ7U5o03FGdGJycGnveD5mHZW1pMXgE7PevICUOZoZ2uINcAnYNrZmrgqNTE5OjHCQ3/yhjMHnddpjR6H5XWFDz1m+V7lQ3iFwhy/oBxhbdgRX3dvVgPiH92P9fKNTI5OTD7rO/V55gygV2BIFEP6bLrfMjCWOXsXtu5b2OaygIdM2/R9Hpg55/6TtM8jPmU1Lu/s87cyfp9HVnpET3O0iotmPGa5RFapIEhDlUmZIyn1P39HLiz2DSxFpmMocwbY5wNS25FZlvHMgfip5zMyfo0okEAQXiE/1Tfh/nhtmF9+eV6QR1ztCAQ9iEOtk15XQAKCgEn3cxg6ZYAxRygUl5aWQRCE/ksc4o4rPtwfF7bsXUiwPGSfZ4ST1xv4n8gmqc5q29CNU0PXfZFNUsoIA7LPI7tByRxPl2P+Ht7+Ht4R7OY7Z72DwhITwgL86W2Oi3fQ2egEf2//6NpRCBq9H+fvEZgQHR3hdRi2JA2X/b1CkrUfKf0cYY6frs1B6OqsYSBcoW9Ycligv39Bl9bPUbfmBvleaRnpLPb3DQlLTI6OZN3C3CcipjP7HtU6Rk9GmG5VGmNOWloWaVg7rvhy9yxq2buoZe/CVpeFlD5Pf85hRWuZsrVMyb8/fC8ai20T+b8xJm3r81tiKLaNtM9DxRySOBA0rlZNddFYrw4IglSKP1yLYkCuoKoaTlOP9E99Md1QZc9WOvZ9zVy3LII5gnTfJ86Lmvcs0rM81D6Pquthr/+b2D7P8O3AwQIPI2Pb+q/r2xzm4AU1mweBmcSc3YubnRcj5EEsD63PI/l161B5JObziPz/MiZpE/nMMya2DTDHPLps2lZnCnP4ab5NuxY/2b3YgOXBfZ7uM//RG/r3To95qs7anpPLsdi24buhA1k/aqOq6WLbpGxgc0yrxeZozaTMYSgqG+sDjZ/DTzvRtHPJk91Lnuxe3LxnMY3PM1yXpRQ86PCYL0n5fvD2Bew8j+jnN8f6WoTH5056nkfKPmqOoQRtmhSBZ+qUAQ1z2lm+j3csbty5GLE8iwxYnvmdfv8x0nh94Ha4OOlrwaH5qh5Ot8+fsfM8w7/FytKcJj3PIy2ZVuYo5EIDLrxCIv/jCwSG1I3RyqkbNdxT6vJoqlohkxhc4qB78I/lmXRVmqGobGNsTjvrxOPtSxp3LNGSh9rnGaxK6wn5uNNnpaqbIzg4X5K6e+B6AHaeRxTwV3X3w16vOULa8zyS6WVOiauVSynVKAsiPrSP4FHlQCJ2kIfbQe11iQMXUsvZIU72a+3WfeGXx5tU1Wgqp2yRLlFR4LH6k9BmyiJEvdfrKd2DWG28mHUfxkxyJBgrPH03z9QpAzqbk3ri0Q9LHm9fQrA8ZJ+Hf3z1aOs9NLZt8F6SOGGb4NAiVW9j57HXkZOkcGzbSHWy9NctuidJyT6PpHhabY6ePmlHn065FRKRUCgSdt/1eXeNcwkcAM0Pt3/LpVCmhhSc0HXLvcsmWc2mq1wrgNH/y7nsahF1aaLe6/eU5kGsOmINWCLzN9j3NXNNWcSqNC/1xKPvlz7evhS2PDuXUPo8AxXJPRGfo7FtnSfXqLofCw4ukKS7yItOYed5ROf+p6qjmv4dBpLiY/po1l/yu1pZE+fjZP+B4+lyEf9GjNsX9vYuSVVIWL+CV3j6W4fVm5xOs7joi1Vk1UlwgW8D88J3IzZHxA4KZaOR08LS4KBSIURQboUg76yT/VqHrWdZzdg5AbU8z8X+s0tcVBi2m+3WLNTU1PisckzRC8KWVcItrvvCI65aDiGVB9+ApcJslLA8xmeP4zq4lUIhQjxY7IOuzns8TpeQiaGTxWG5wQJDCAicFERU57gaWffdiB/WWy13+P6gRwoHgkpcrfaw6lmBWzfZaZDRPqjfNI4wzJxQdm7g1k32n/kU8uEuithBMWW8mjgfpFoyOHAum1MacdBx3QeOPgUiCOKkYPYZlQR/RNNTvDnt3YxhzuUTDU5LOd8v1bM8Gp+H57VmtK2KEGEwX8Gr7Dy5in9wkaq3qeOIFfYOg5G6dEmsA807DPqKKJjDdrG1cylsFor4Wa421vaeN7hCoSDlW1v7aAHUzfrMxuF0uUAo5ARvsv3skoiQws1zWY8wh8ATzbcsliJK+cLW/vRdvlBUH+Jg9QULIYWc7bLG6qvQqm7txIwb47DS3o3Fqb+0e51bKfnFR5Xeb33oVyZUKDih9iu9y9SCiA9XfBYC18nPdX0LsVHCRg5fKELFhoWUZ2+1cUA6Imrm6TKHlFXiaoVMqBAQWPUCkbAxxsHaIaJFLryy2+qDwCqhSKZAmPOua0qdQCjkRvwTQUb7ILlprfrC//Ni1i13DIbRE+S5rLHxvIvQ3nb1D4FXcwvru/XBQbp2uhQeixKP1dYebEghg/slEt72s7N2iOCJUr5Ys/USVzEkynNZ4xCn2zVt0zOHOScbvrPiOFkh5EEsj67PI7t9sTv6GzjCANnn6Ty5duRRCRrbJr16oP+aF/YOA2HQu8q2Mknsx9LYj3u95ur7PIaY41yCoM6LWWftykZu+eH268IFwkuOVnsKNSNS4Gq1KYab5YSnaOYwGE8QXYEVUZsiZH1m7ZqHzr7Uhc7WDhECCII47MTCvEQ/h7dt7cMRs8ON+WyTR0S4q/1Ku63hNTJIVJ9bmIdc9d1Q1bEV9iEcWHuENac/sI/gaSuHxeIGf7DCsxK+QyeB9UGw2AqikBAkrNPUllcnImXBxkTLHA0ImPDaLLh2wmwNRQZ7kNw09y4qed5troI4W+PCE9EqrHIIgijAIXat1Fk7FpCaG7HJDp7ZClmf2bjmoVy6ghp8zeAQ/5spzGlLOVn/rVXDd1aUlqfV46/K7sbmHxdjEQYDlandwf8X9Xn4h6yUXQ0dnlaCg3PR8zz9V10Gr58ek/BEASv0fR5xIbXNMcQcfrg9vgaAaNI9Ugq8QkAYb5LNIVARgkqdrXWXDeoCV78dWA9xT79rH4xO3NTc4A9t3W7gU5QUDsR2sV13kKVRx9y7zUOE5uCmbZ1L5GwXO7ttgXGJgd//Y8W6cIGO2PBMDF+QIGVhBGC72P4u5pCbFt4I1ax/BJUKiczRQEEQngIcQi4MF/otBjeh+YrhxayzcQrWfq3k1VmAzWEoKhtjP7ZCoB/x2ZZy8uE3yxq+WwZbnu+tSD6P9HpUT9xubJ+n3WvNSHMZMbZNmn2kP+sw6R0GCm6p6OeV+j7PVJkDVXrbvBtYjxiN+tPI3IyQoshFv/YEER/ana5DvvUaQ5HVJFgDEDLUeC5fr8mqC7SzdmWrIUi7ACDLcrLaFMOHajyX2/lUo1+a8pRttm43iF+gkPCSo82eQsIUDqm8ESkjz95q7ZgiLHW23p2HTP2aEZtDFFunLggiZ2kNy+9ljl7TxPZ4Mes+CG1G+gt3Fp6sErmhDw4xV8Oc5nCH1S7YDLbGc7n2W4bYkO79TDll0HrpZN3XVg+/sUIsz1Ki5Xni9payp7lp99InuzU+j7wssTv8C6LP035omar7keDQEuLbcxTc0t4zK0nneeDYtoKp2RwIkrPd7GxW2q1eu8bmbQ827OLDKVbL7Va/u37rPx0Qi6Rgu62BU9aud9jlaAdPfpCUlU5xAkhW4rF6+ZrVa+3eWm7nBq+k3fVcvuKttWiFTimIqYHL2KxYvdZu9coVq7exUFXDlUHNjfhkhc3bdnCBtX5lsPKtd/jnerhOG1uHaC4skssaq7UO9h/YO2yyWxcugCB5mY+9DSyS3epjpHVz3Swa5sA+nu1ba+22JgoMz9b0m8YFh/2cdz91eB/urJXNpxFwZ4nc0AeHmIswRxBjb22r7budz238kdWoYITWsFuT7ucwfcoA65X+Dcycbcsefr1MSx7c5+kr+KUnyR3b52k7/FeF4CH3R3JsW/81X0m6G/EdBorm0t7T/wOLbUOmbfB720QFXvoCTJ4yJBeSdvSGyBudCgniSVPWpVbIhDrlYZ+EVCFcRiRDDmZT1qGQi4SkbdchOey7a/8otkdpti9psrQVGv8/RdO6D8MFdFPwT3rg4FmG7ibDCp3pPCOnDAyBAEFQa/LJ2q3L6rYtI1gexOf5YdnYkHSk5f7wk7vopezldkV9ox9Vzff4k0rcOtpSrmgpg6/WsvGR/u6T/65/nkeU/7uYQyM9yLI8BDAfgTnRTLefQ9OHluRTDxxfr932Omx5voGvegM+jzGxbfTvbQPMoRmIZyZrxjDn11M1/3odJg/Z8uj4PIQIA4OxbZTvMEBj29DzPMI8YHOeGYIY7MhMYs5X1g/+ZY2QB7E8VD6PMbFtk763DTDHoLo9QxkmZQ7TpwxoxoWbdKr6S+uar6wNWB7qfR5jzvOgq23E97b1XgM2h2YonpGsZ+qUAc2YcJP8qra8Uf3VGzVfWT9wRCwPwecxtM/z+3ye3mveNJKArGcDAZOuSjN9yoBmSJoTT93/wrpqi3XVl9bVX72OWp4HW5fV6qy2TY/P05MLmEMzFM9I1rNwyiAoLGZw0PAmBTJSzYl+9z9/o+qLN6q2WKPTNuZ8HsCcZ4QchrsxODgUFBZjOH96chhflX7c1Hw+NLr83v2KympD18Mo7/qAXY8CnR8F7n58bvfj87sbz+9uDNrVGLyrKXhX04VdTy7sfPLLzuYQ+OKG7uCG7WgJ29ESvqM1fEdrxPa2SOSK2s6L3s6L/qE9Br74sT/wL34vuPi9IO77jvjvO+KdOhOcBPHftqcfNiQGSH8GECi/d/98aPTjJuqjetNDGqQWxpkDQVC/TP5b1YNnYFRM3AVv359N3OIz0NxvVQ/6ZdgpqGlkCrkqUzCH3Cb4bBwC54LCjSsISpkBAcAcM4BuZJPRsUlGlgTFTI8AzhyGThlg735X6b5wdmJiQiKRyWTknz1jXgwVEWXziaE9aYBIQylGVEwi82hMLobljaBFyIwzh+nf8lUqySorEkmkUsKpE0SHgBgYsc8FhQM0MDSwH4W2EEXCmcPQKQO054zGexPBxZqbmNBPhp4uMVA/5+mSGcNfH/0J+E8/+SkbFKyDOsyh6BZIMh8CUdEJ5msctDwJAoA5kwBkxmywtmZG8CdtGjBnUojMVgAwx2zQG9EwYI4RIJmpSCSYrZkJeWOaxZnD0CkD+J3J6jGlUjU+Pk4SSKlUqVQ6C26gMBGic0HhADoiIBaFBs4csABKHCRLQAOsShNHxHJXpRk6ZQC/AFKhHBwcVqvH9IEYHh4lJYLCGCDngsIBGhgalqZIuM0higjuLQGB8Mg4SxADyECJAGAOJSwWkQjW1ixiGAwIAZhjABgLSAbMsYBBMCgCYI5BaMyekfgry+wyAAEMIQCYYwgZ86cDm2P+MTAsAc6cGRPQrrODRBnebyFx9eeCwmfMoFjEwYEpHYTBmWMJOxiWtmZvloD23GtF6HXK/3zG1WupaVlZOfnE776JiQlwQAMDxFxo4MwBpwywwUBvKGPiTRAqL+6T7HR2J17iPom+bM9SxD6pd6gqWngHdZij3wGQYhYEwiPjMeaER8abRQbQKD0CgDn0+Jgnt7auHmNObV29eYQArdIiAJhDC4/5Mo8cO7XT2f3IsVPmEwG0TIcAYA4dOmbMy71WtNPZPfdakRllAE3TIIAzx2Qh3DKZvE8i7ZNIe3pFvUIReo/9KxT19fSKROI+LGVmFua2tO10dm960gLQwDTBkG6IxBLTH1fBmWOCVemxsbGI2KTYpMtJl68kXb6ScCkt4VIaeo/9+zDd/+EVv9rUE7Wsk7VpJ2vTTtSlnahLP1GX5luX5vvwygn4yvCt11w+9Rk+DVd9GjJ9GzJ9OFnaK/M4J+v4o2yfxzk+j3OOP86Fr8Zc78c5Xo253o3XvJvyvJsLfVuKfA2JkZiSnnApLTElHROMRmaGCh/09GWo5qTLV56lmqMTLoVExY+N6QTjM63POHNMENCekZP/oK6BxgJCECS6HdtxaG6nx9yuw3O6PecgPy49B/19XKH3a/CPS/u82uf7at+JVyUnX5WeeqXf75V+/5dlp1+Wn3lp4OeXBgNeGjr70lDgi8PnXhw5P2s0aNZo8AuKCy8of3lBFfKCKvR5ddjzY+HPjUc8Nx75b8MF/6IXxry5AwOD5hXgKWr9QV1Dhu6uF9P6jDPHBDAZ84Z5mDkH53UemoeQZ2635xzkVwrn9B6bI/SaLfKejZDntT7fVyUa8rza7/eKzP8V2emXB868jJFnOPAlhDwvjgbNUgTPwsijDn0BIc/z4xHPWThzTDAiz1ITxmjXNPbX4pgjvB0rODCv4+C8P2J5BgJeGtRanuHzswXD1/kAACAASURBVEYMWJ6hfIu2OdM4zDOhKsCci/yf5gsOzNe1PHN7jszpPTpHqLU84uOv9fm81uf7muTEq9KTr/af0lgeucbyvIxO2/Qszyx02oZanqF8x5mgUjOkjzOeObcutrvP5/80z4DlmW3A53lF3+dBLM+LqM+jZ3meV4U+P5gHbM6zQ6uZzpzeWxfb3ebzYfLoWx5jfR6t5dEsGOhZHs2CweA1KpujGJArpqhP7XcyasmvlkeqGHiQlf+gn7a2cbV8SCdSmLY0mjnwIOtOqxHlZlQRszHHBAHtxvSt9+ZF3v757W7zEcsz34DlmcJqG9HnIa22DVAxpycvwCtPODWdq0kw8Igwxy8gp5u2su5ir9ha2hL6mcIcv4T7+skzO4WkXUzrM75CwPT6t1KpIvWNcqB7b15sc13A27+g3W0ByfJ0ecztPjy323OuLHOvsq1M1Vam4qHXHRXvzui90Kn6PAO5W/Vl0GWO9P7V5LCw2LDLFYJxCGq/k3qrquBybHBY/n1ubc7lhLDEO60jEFST4HX5TkFibHBiaRP6m6jiqtTohLDLrGBvmDkjrXeSE2ODw5IzOKMQxIk+GFQg1rasYc7Ag6zS8pri5LDY4NymEUVLQVpVD1Kk9VZGuRBSCatSo2ODo3PK4Qe1zBFXpV6pFUPq1lsZYdEJycUtI9paZ+D/JO1iWp9x5pjglAGpb5Sj21N6sdVlQZvrgrb983kayzOPr7vaNlQePlDoJYndJL24qT9uU3/8xv74jerehv6I/0T2eYz1eeQ5FLM1XeaoR5CpVOvVgODyUagmwSOxVqyGWq8GeFxuUo1DTWn+YTUwczwSa+Xj0Ehlgntk1Qis2QEZnRCkbkpGmAMpRlXjEKSuCvbOIc+yNMwR5viF5HSqoXF+6smgHOFoeaR/Kly0Kc6X1TBUG+abUD4AQQMVwSdzWhHmlA9UhfnBiSMVsV5pLSpI3XA5IO4xJagzIlFfuxg9J6LDHKYB1u+bfos9pXGt+xa2uSzUWh4Kn2eoPEIS/ylpn0ee/o2iIX1K+zzynEltzmhTcUZ0YnLwaS94PqadlWHs6skLQJmjna3VhvkV90Dov6hxQGZr4qrUxOToxAgPN71ZFs4cNEs7weOwvK7woccs36t8CJ/RCXP8gnKEwhw/X/djIQXIsZ2evACP4GRUSFiYmfpnjHZNIzaWyJyWvQtb9y1ELQ+lzzNYFtEX9yk5wuD4nDFxsyR4JU2EAdHnGT4/S5Y9GXMes1wiq1QQpKHKpMyRlPqfvyOHONFHWA3wy4BRGgywzwektkMQVBtmPHMgfur5jIxfI2B6CIt9A0uR+R0/1Tfh/jg8W7tVk+ARUCwYh3oKgmB7OOP/ZgRzhoaGS0vLIAgqLS0bGhomDnpPaRz3x0UtexfpWh4dnwdlThfi8xD3eQau7hytTjB+n8cQc5wP+3p4+3t4+5+9VnDWOygsMSEswJ/e5rh4B52NTvD39o+uhZVYUBDk7hcbHZ3g6wvbnIbL/l4hydHREV6HE+5T+zla10VDNhiSnrwAZw1hRu/H+fuGJYcF+vsXdGF+jrwywSuyQjxQG+0bFJyYHB0dm9FExHJm3c8U5uTlFUMQlJdXTGJO94245j2LuD8u5O5d2KK1PESfR3BgniTZSdFapmgtU7aWKRqLkNg2ZJ/n+PwxcXNf4L8TYtvofJ7+LAqbQ1a3cbXuD5yS8438rFJMdelZr2La5XLVwMDIH25Br8mnKcFszDHBKQOsb0NDw3TMcV7Ehcmjb3kofJ5RzjVxyDrM5xnIdhmpCDcU20ba5+nP3PY0qQaQlRYBTLvQUkzrM+7nML2KR1yVpmPO9bgnuxc1Oy9CLM+iSX0e4YV1o48LMJ9HeHzhmLRN5G89aVT1QMBLUsAcWl18ujJJzGFan3HmMB2VrVaPYX2jZ07TrsVPdi9udl5swPJofJ5On38Xx37WeWjeaGOR6Pw73Z6a2LaBvENDtwJE3rMnjW2TXgU25+liB520mHahhZjWZ5w5dEJNUx7WNxrmdLHjGncubtq1uGn3oicay0Pt88hLg8f6OzuPLOu9sG6kPgs7z9Prs2RM2i46aaV3nofs80gyAHOmaWgtoBpMu0wjiwUyJ75xx5KmnUu0lofa5xEc+YuqiyPNOtyfe7Tj4DxF883egLeR1TY4tm2gyGuwxGfS8zySjK+nE2WFXGgg4k0hkf/xBQJDojJaOXWjhntKXZ42VSEXyaYaKEhVIWBO/KPtSx7vWIJZHkqfp7/4rPjSbr7HMrW4tcPTShTx8XANCztJ2uOzbKyvRei7ROg1W8/y4CdJ+65MK3NKXK1cSqnGVBDxoX0EjyoHguovebgd1F5BpXDAnFrODnGyX2u37gu/PN6kOkVXOXWTNKmNoQ5rPfLQACK9YjhF9XtK+6BeTXCCosBj9SehzRDEdrF1LqEsMrXEmc6cTnb8ox+WPt6+VNfy6Pg87Qf/rOxpbHdf0u62oD//lDTnqODAfCXvXo//X7UnSecOsv0Grh2kP89jCcxRyEVCoUgo5MZtW2EfzoUgiB9u/5ZLoUwNKTih65Z7l02y1jytzFGLqm5wZdQaS2hInzl0D1JXB8m57GoRBJhjAB6dZOxbgcbP6SyJ53y/9NEPS0iWh+jzSK75i1nuaGwb//AbaglfcNhKFLV5qDIJO0na6/sntZjb4zWf5jyPOJ3K5nBYPldqquL8tm6y/+zsXSGvNOKg47pNrnHVcvibkld4+luH1ZucTrM0GiarTnL7wt7+28C88N2IzRGxg0LZaLC1sDQYNiMEnVMI8s462a912HqW1QzXh/4pmkM+XXfsLqqybDfbrVmoqanxWeWYohe3LauEW1z3hQciElx58A1YKsxGCctjfPY4roNbKRQixIPFPujqvMfjdAmsrMQ/nSxhafBBVj1sCf2uVnJSEFGd42pkkKgsfLed9Qr7XR5ulzhQiavVHlY9K3DrJjt7l6QqOQRpH9RvmtiWsAB55Fu/lDoFxGG5ITZWY3Masz1RkwtBUHfp6VOFfAjS7amIHRRTxquJ8/FI4RBr1dxj2kWRx0AS7ucwHZWtUqmxvk3CHKelj2Dy6Fse2Odp2f+Gsutx2/5lWGzbUE16b9jH/J/mKwU13SdXYO8wGLx5Tpbh3HPU4DsMxGnfUEBa4mr1rmteo0goyHZebrvOs7RZKOJfcrLaFMPvZn1m43C6XCAUcoI32X52SQThKdw8l/UIcwg84cWs+zCGjzNHlPKFrf3pu3yhqD7EweoLFkqK5nAHq/c98hq1ThI3xmGlvRuLU39p9zq3UrIFqPR+60O/MqFCwQm1X+ldphZEfLjisxC4Tn6u61uIjRI2cviwHROkfIsIKc/eauPgeYMrFIqaebrMIWXxYtZZu7IRO2DnwqoXiISNMQ7WDhEChUyY/b21/elqEezLIRCl1AmEQm7EP23towWQ9kFy00R8hazP3vYrQwRr7kYqgcHRztbUdz2XfxqHnMgQxn1q43kXouip7eofAq/mFtZTHdzAtAttk2l9xpnD9Pq3kfs5HcXx9d8tbXBailiepUTLg+7ziDN9xBnHsH2e9sO2yo6H7e4L2t3ni2K3DJbHYO8w6Dlpq+p+2Bf7sST2Y6HvUn2fxyBzNO6KIOJD7RQc4cCDS45Wewo1ylDgarUphpvlhKdo5jCGmSNkfWbtmofOvtSFzrBGwm/7qcrKzrsS4/yB7VsuCE+4MZ9t8ogId7Vfabc1vEYGQcK6wrxc5KoTVR1bYR/CQSZ4Nac/sI/gEZqDuMEfrPCshAVUSOBJYH2Q/bpwgYIoJAQpuHc1td3mynWzMAIQfA+s/lJna623Rpit8cPhJrAHSU1DQ9wyVPLcu82i7O9t1ruxOELUoJa4WhGZA0FVx1Y4xIkgSBT3yfrTjfBHwz0lMlJzT2IO0/qMM8eUpwxobE5HcUL9t1YN31lxnKz0LU/zvj+pRG0trm9gEQb9BT+Lft2FnedRtN/vOrESfYdBl8dc6aVvB6+fVnXVSqI/0vd5RCwDNscAc+6F2+NrAMjAk1PgBzFVg2B9Itoc7RczMtQERUSHfih7q7XT1SHu6Xftg2F/B4LU3OAPbd1uEFYRLnHYLrbrDrI0qp97t3mI0BzctK1ziZztYme3LTAuMfD7f6xYFy7gE8WGIOGNUM2aRFDpA90sjAC/lznkppFZHLr+gcxgJZwUH8fVy+22sgSw4dJlDtQYaPdJkrA7yeGTJCFiiwz3FIVM518Sc5jWZx3m6AjCwAesbzQRnx1FCQ+/sar/1opgeXCfR5h2VJzth/k8rT/9WdnZ0Oq6CDvPI4rfNnA7jHSeZ/h+Yl/0Rz1Hye8wEKVOjTn8Sm+bdwPrEaNRfxqZmxFSFLmonyOI+NDudB0CX2MoxhyEDDWey9drsuoC7axd2WoIwhYA4BQPNlTjudzOpxpFX56yDWYO8U94ydFmTyFhCgczJ7gRKSLP3mrtmCIsdbbenYd8rzcjNgciCEmsCr4nZWm5/XuZo9c0uT3kc7XfW58kCYnMKUDLieI++dTT0x6xPBBlTw0tUUIQhGkXZZvTnmge5tB0o6Mooe7rZQ+/Waa1PLjP0+T8hlLY2uzyFyTCAPZ5+nJOilIP6ERVuy9QdtR2eP934ttzYOZEfYTFtmH7PMLUbykkwaci5NkaH5Kz3exsVtqtXrvG5m0PNuziwylWy+1Wv7t+6z8dEIukYLutgVPWrnfY5WgHf60iKSud4gSQrMRj9fI1q9favbXczq1EDkGCuH+usHnbbvVaO5vl9j7lcI1wGZsVq9farV65YvU2VjNGLVRWNTfiE80jq9f6lcF2Zr3DP9fDddrYOkRzYZFc1litdbD/wN5hkx08lYLkZT72NrBIdquPkdbNdbPomCNK+crWaqXd6m1JfBwieCWQMFvTb5oAsCDps7ft7L9wtFuJ9F3LHH60g9VyO5/bcEl4Ymm9+yq6LE7RU+10kVArdjvTmSMoSqjdtgwhD8nyLO1OPijOD8b2ebgubyh7nrS4vo75PMhhuPnipB9k14OQF4Bo3ts2VJkojvwIi23DVtuEl6mYgw2FoZshuVCiu80yRN7oVEgM7+6pFTKhTnlkYVq7PIA2CpcRyQzsq8AaBq9l6z4yJCfuJ+J7L1gvaLYvabKwx42+oWgaexbtly54WCblDUVPKcsBmwMzZ+vrddtef/j1snrc8sA+zyi/fpRfP/zkLnopOhpEV7woYtvcFik76hQt5ZqrtWxM3iMK+7v+eZ7e38ccAyMHks2LgNlsDtNR2ePj48b0TVCY8MDx9dqtywxYHtznMSa2jf69bb0pv8vmmFdBQOsGECBpF9P6jPs5TK/iEVelDfQdThYUJtT863WEPPqWB/d5dCMMqGPbJn1vW8+l72gkAVlPFwIk5jCtzzhzmI7KJp4yoBkSfkFC9VevY+QxYHko9nmMPM+DxbbBJ0kBc2hG4mnLIjGHaX3GmWMCoEh9o2yRX5BY/aV1zVfWD/5lXQtP2/QtD8U+jzHnebDVNuy9bT3JwOZQDsJTmWiMdk1jxyyPOfmJVVusq7+0JlieafN5SPs83b8C5kyjLpm5qpnOnPb8xPtfvFG15Q3U8mDTtrptrxva5/ndPk/3r05mHm3Q/PQh8CwzJ+FSmqCzix6r9vzEys/fQMhDsjyvG+PzNE3lHQZdSYA59KPx1OQKOrsSLqWZUlyTzta6unsCQ6Juld+rqKw2dNWnhtUH7HoU6PzonPPjc86Pz+9uDIKvpuDdTcG7nlzY9eSXXc2/7GoO2ckNha+WsJ0tYTtaw3e0RsBXW+T2tqjtvKjtvOjt7dHb22N+4MfCl+DiD4K4Hzrivu+I/74z/vvOhO87Er4TxH9jSAyQ/hQhcKv8XmBIVFc3+iJuE9EHZw7TUdkq5LVlowrF/Zo6dFTYpWU3bpWTRuhW2T12aVlZRSUp3UyF709FjGku7O37sxaNaa65orL6War55u0KoaiPxBim9RlnDtPr30qliti3iYkJkUgilRJiF5FsIAaG0rmgcIAGhgYEQRaFBs4cpqOyiRCg9xPwn34yRJk6AwtHxyaBQSHph+Xohg5zSFKCj+ZFICom0bwCgNZpEADMoQHHzFnngsLNLAFo3jACgDmGsTF3DmCOuUeArn3AHDp0zJsXFZ1gXgFA6zQI4MxhOip7fBz+KSbin1KpUql0Ftzgs/fqMaVSBQpDEHQuKBygQVQYi0IDZ45FLfmBJWyUOWBQiMyxKDRw5jAdla1WjxFRQJfnh4fJP9MHxMBQioxOAGhgaMBnyBXKwcFhC1EknDlEEcG9JSAAVggsYRQMyQCYYwgZ86cD5ph/DAxLAJhjGBtz5wDmmHsE6NoHzKFDx7x54ZFx5hUAtE6DAGAODThmzgI2x8wDQNs8zhymo7LRUwaYMBMTExKJTCYbwFLQG60YOvs85ius84LNycSY5sLngsK1aExzzRAEgZqJivc70MCZY1GL5WA/B4KgxF9ZYFCI+m1RaODMAQHtxEGyBDTQ2ZrlxNWT8EEhmrHnRHSYow8NSDEjAsDPMSP4kzYNmDMpRKYukHutCL1O+Z/H7k0tBGhvMgQAcyZDyOT54j7JTmd34iXuk5hcCtDgJAgA5kwCkFmywyPjMeaER8abRQbQKD0COHMsKoR7hp8yqK2rx5hzv6p2hqOBabBFqSjOHIta8gOr0keOndrp7H746EmRSALQQMljUSqKM8eiQrgtJJLcjGLkXiva6eyelZ1vOXH1ZkQDZY5FqSjOHMwmMn3TJRvjSdTgokegtkW409m9tkVIXwzk8iTqLhn56BfTOgxBkEmZoxqb+CRK+Hmc+Otf+wxdN9KibqZHXbsce+1ybF6q9mLF5sNXTH4afBWka67CK9HoVZQRDV9X4av4anRxZhR6lWRFwVd2FBu+Itk5kdfRKzeyPD+ssjDUkBiWkL798AVLEMPyZfg8TvxJlFA1RvXyPsY4ZFLm/JQp/bV6WKaGaK7u27Gdh+Z1ecwj/qwn+pu4Iu/Z4uOzxT6v9fm+JjnxqvTkq9JTr/T7vSLzf0V++hX5mZcHfn55MOClobMvDQW+OHzuxZHzL44GvagInqW8MEv5ywuqkBfUoc+PhT0/Fv78eMTzE5HPDRf+i0YSs2d1SgfNLsPTIsCv1cM/ZUoZowlFxSZlzv++0DvpSHTfihUcnNtxaC7y42pzuzznwD+udnR277HZvV6vCb1fEx1/Tezzmtj31b4Tr0pOvoKQ52WZ/8uy0y8j5HlpMOClwbMvIuSZNXJ+1kjQrNHgWYoLLyh/eUEZ8rwq9Hl12HNj4c+NRTw3VGDRzJkUK1CAiMD/vtBLoeCMJVkgcy4KDsC/xo5YnrkGLA9MHirLg5JH3/Kg5NFYHpXW8gzlA+bQ2X+iXlr+vdmY8zsCrad4cEBtjM3punUR/UFpwcF5BizPbMzy9Pm+KsEtzysGLM+LBizP84N5gDnPLHOY1mfc5phgsdxY5rjPF/w0n2B5mPJ5BvMcLf+rFEhoJAIkm8O0PuPMMUFcvVHMuXmR5za/3X2+1vJM7vPoWp4p+DwD16iYMzTQMTTFb+KWOyk1A1QDPFCemV/eR1ubUt0hU1M9S/PUQHnmnXrahZYpVkjT1lOTRWIO0/qswxzGvClNxcYwp/PmRd7+Be1uCxDyEC3P9Ps8lMxpzg04miucmubdTzDwiDDdLyC9g1b5OoqPxtROrTm1MN0v4RZgji4C+sxhVJ8tjzmlF9tcF/D2L9C1PDo+jyxzr7KtTNlWpuKVqXh30Gv0XuhUfR55LoXN0WWO9NaV5ODQ2OCUisdKSNZyJ+lGVWZKbGBo/q2m2vSUhOD4O/UDkOx+wtGUO5nxsYHxpTUyhCc9VUlRCcEprEBvmDk9zXfi4mMDQ5NTHo7K1Jywg0GZPVo6aZgzUJ5Zyr5fHBcaG5jd1DPUkpla1YxoRv2NDHYX1NdVlRQVGxiVw4Yf1DKnpyoprbZNra6/kREclRBX2NKjq0xTJKRWpKezEsCci20uC3muC1HLw6fyeYbKIwYKvaSxH0svbuqP29Qfv0kWv0nd29AfYTelfR557lZ93dJljroHmUrVXwkIvDMqu59wKL62bRSqvxJwKKWpTwnVpPoH34eZcyi+tkMJ9VQkuEdU9cCaHZDCh2SjTXEIc2RDo31KSDZaFeidQ55laZgjTPcLSeerZUp+0omg9K5RdoR/UjMkUzdF+bAqZbXBPglsKSSTVgSeyKlHmMOWVgX7wYk95bFHU1v61OrKlICohqdb+/WHw/iUmc6cjhsXW/YtaHVZQGV5ND7PUHlEX/ynpH0eefo3iob0Ke3zyHImZc5oTWFGWHxy4GkveD6mnZVh7GrODUCZo52t1Qb7FTer0X9R44DM1nqqkuKTw+IjDrnpzbJw5qBZ2gneQ9bRNL6sgXX8Cl+Gz+iE6X5B6V3CdD9f92MhmSKYJ825AYeCk1EhYWGeTovxx8U2G3NMEMJtjJ/TcSOuZe/C1n0LW10WouTR93mGyiL64j7t9pzbc2RO79E5mgiD43PHxM2S4P9h/D6PLHsy5jSw9kVU9SHaaRRzRKUnz93pUHPCjrAqlRhzBq6dC0hqgWTq2mDjmaPmJ53LSEmKgOnRVXz8bGkbTAl+kk/CLSU8Wyu8n3Do5+LHSqg5Lwi2hzOVMFjHScxhWp9xP4fpVTylUoUxp0c+XHSjTKaGim6U9ch14nE6bsRxf1zYsndhC0weSsszbxBhTtdhUoTBbPnVHaPVCcgmqVH7PP1Z1MxxPux7yNv/kLf/6dyC095BwfEJwT/70zNnn3fQ6aiEk97+YTWwEj/OC3L3iw2LSjjuA9ucyhT/o78kh0VFHD2ccIvaz9G6LshMD11UaM4NcNYQZvTWRf/jocnBZ/1P5nVhfk5HRcLRiIo2aW2YT1BgfHJYVGzKI2BzNOsCTOszzhwThHATmZOZWyxTQ5m5xRTM2bOo5cdFqOWh9HkkyU6K1jIlcikai3DLc3w+bHYC3zQQYUCObevP2oZ9Yxm8Uar7RqdBHfuGprr0rNco7XJ5n3SgZzrkNIiDxds0ks1hWp9x5jC6hIdWbgxzBNfjnjgvat6zSGt5JvF5RjnXRCHrMJ9Hnr1vuCIMjW2bdJ9HmmkEcyxeY55eXZ9eyUnMYVqfLZI5uxc3Oy9GyKOxPDQ+j+jCutHHBZjPIzy+cEzaJvZ/Q4wEhtL7PIA506u75q1txjOHHde0a/GT3Yt1LQ+Fz9Pp899FsZ91HJo72lgkPP8OFlU9kHdw6FaASBtVrWt5dGLbJFeBzdGbEz61NhYwJ75p55Inu5Y8QSwP17DPM1B6Yay/s/PIMuGF9SP12VhUtdBn6Zi0XXTSatLzPJKrX5v3axK0Po0IzHTm8EviH+9Y3LhzMZXlwX0e/pG/KLs40qzD/blHBQfnKppLewPexlbbBoq8Bkt8Jj3P05cxrTZnSM6VKChVQSiUCxlz3xmtnLI7MsM9pS5vjB3Tr3NUIRBS40nZitmYw3RUtkqFnzLokQ8bWluDmbN9SeOOJY07l6DkofR5+osDxZd28z2WqcWtHZ5WooiPh2tYXR6a2LZen2VjfS1C3yVCr9mI5aE+z9N3ZVptTqGr1d5SqkEVBG2wD+JSz4sqkjz2HtBe50q5akg2Ks+54LRhrd37n/ulcydVHbrKqYShFkNTkhO6ca1HOhpApKfuOEX1e0r7IC6GPj2wVvTr5Ma8vyGGgxWY7IbEHKb1GV8hYHr9m7SfQ8OcRz8sebx9yWOYPJSWZyHv4J+UPY3t7kt4bvP7809Jc44KDsxT8O51+/9/2EnSAbaf/NoB5CSpwfM84nTzM0coEXG7RdxubvjWFRtCuTI1xAm1f3NvoWAUEtaFvr/cu2gSYzWtzBkV3SzhCqh1lNCQvpbTPUjgqv6DWFv6WX+MOUzrM84cpqOyIQgyZlW6vSSe8/3SRz8sJVgess8jveYvZrmjsW38w39SS/gdh5eJojYPVSZh7zDo9f2zWszt9VpA8w4Dcfo3+NchNoR1LM+0mpsxfls22m/++S6XWxp0wPH9ja7hlXKZGhJyC32+cVi10cknRaNhgsqkvZ/bb/gmMD10N2JzRDnnQnO6EXXpLj0DmxGCzg0J0n922rDWYcvPrBoJplKKmgufvn/0LqqyOfttt2SgpqbGc5VjLFoVJp4aElTALb7/uQciElz5mRJYKsxGcW/HeDo7vg+3UshFiAeLfcB1u7OHT6GI1GWdrO7SMwdYFWqoIskvuYITi4i6PaZGoBYVhe5ea71iww6PvUkcWaGrlTOrIiVwy0a7DXuTbkogmfZB/aax5oRN2e7/WGH1juPeA6E53YqajMC93zisWu+4F64fQuu8GeOxeb0D3OIoJCMwB4f9Gll+rH6SzWFan3WYw/QSuFHMKY5vcFqKkAe1PGSfp2W/tbLrcet+KyzCYKgmvTfsY/5P85SCmq6Tb2EnSQdvnpNlOOu/wwBbbROlUdmcQlerd1zTOSIuL3v7ctv3PUprukWcJCerjTEcAWuzjYPPbQG3m3Nmo+3mJJEMT+Gm712PMIfAE83YYymi2M9tN/jd5XSLKi44WH3Ogudmaqgm1MHqfY90jlyI0qMpZuNK+70pnIqk3e/vLyVbgArvNzf4FXUrhHWhG1Z6F40Kgjas2HwBrpOT7fomYqO4HA4HtmOC2G8QISXZW2wc3Eu43G5RDVdX80hZ3Jj3rV1z1FDOXtu1e1kVPBGXE7PR2iGIpxB0Z39tbe9TKYJ9OQSi2BoBt5sbtNl2Q6QA1nLkQXLTBMLLZPKbfvZWO7K53XLhqKKmDpaH233X850V7hUIc1DYEWw3xohw5ghYm1c6xTYphN2F21d+Gi7AvnF0bvSZw6g+WyRzvrPiOFnpWR54qbrZebE400eccQyLbWs/bKvseNjuv0rJ7QAAD3tJREFUvrDdfb4odstgeQz2DoOek8tV3Q8lsR9LYz8W+i7V93lEaVQ2B582CII22G4vRIYH4cCdJEcr50LNl9w1V6uNMQ8ynPAUzYMYT7BvTW1KN2uztWs6OvsaLdwOayQkU4tuZmSnp8VsX2/75l6EJ00xmzd6BIW6blhptyUU/j7m1hSmZyNXjejm0RUbLnAQnavxWW8fxNVWDuso98x6RAvVkFAITwIrztm/HyoQEoVUQ8Kmu5raSrkC3SyMADl7tR3HDWbpdmutt4ZDBM8t3w/FmQObZULTMhm3CJU8+26NDC5McAUVApg58mRnpC1CnbJrrvDXitbmcJMcrfYWIl0WJe/ABNOhjUwNz2gYpQqpcotjDq8ovv5bq4bvrHQtj8bnad73J5Wojev6hjbCYKG04GfRr7uw8zyK9vtdJ1Zg7zCQXvp24PppVVetJPof2mmb5u05fb6vCllTYw6bOPCFrlYbYsgp8AoBQZVJNkf7xYxwj6CI6BezLHuLtVOyjOvzjv2ZJkQtRrlnNtjuLYHwVYQkTs5e2/cPsDSqD6sjoTm4advthfKcvXZrtwaGxwd+/Y8V74cKdPUV4paEatYkzpXeIfZIjVBda3M0Xxl4dwgCE7RclznkppFZHLr+Ac9gcUlGuUEb7TYeiAkP9dv8jh5zEGw5WubAT20N1Xa5sGKG2xxDEZ+8ooSH3yyr/3ZZg57ladq5RJR2VJzt3+y8GN3nafvpz8rOhjbXxdh5HnH8toHb4aR3GAzfT5REf4RHVWvf2zZV5nAqvG3eCaxAjEaFHzI3I6QIs1E/RxC0wc6nBlF9TiiyOgQrN0KGGvfl6zVZNYFrrV1zRiEZtgAAp3jkqGvcl9t5VqJfqPLYrTBzsKm8TA1xkxxtnAsJUzikcg5SRpK9xdoxtrt0u/XudORAeA1ic2QEIYlVwfekLC23f6/N0WuaOFtDFj80Nocb8/47oTVwriIdNSOFrlY7CtH5aoXfepujNbABXI+UqfC22RBagwGlWyfWI7PZHKajssfHxzE/B+ut/g2vMKHua6uH31g9/NaqXtfyNDpbK4WtzS5/wSIM+nJOilJ/0jnP475A2VHb4f3fBAfmYe9tG76fKI76CIttw/Z5elOnZnM4annOfjublXar1q6x+ZtHDuziwylWy+1WvbN+y2YHRC0UOfvXwClr12/c4bgWXldFUlY6hfMgQaHHquVrVq21e3O53d5CuUwtCN+8wuZvdqvW2tkst/e8DS9CwGVsVqxaa7dq5YpVW1lkjRnlBv3/mkdWrfUrgm3C+o2b18N12thujOTCIu1dY7XWYcN6+40b7eCplFpe5G1vA4tkt+ooad1cN4uOOaLYL22tVtqt2prEobM5pKZ1aC+r8EO75snmBm20tfmHw4a1jhvRKXGhq9XGTzf+zW7V31ZYodjKSveutH1zaxIBdrtVa2EY9dVGf7bGtD7jszWmV/GIq9KUPUcTYeZsW/bw62WI5YGnbZjP05N8sC8/GNvn4br8SdnzpMX1dcznQc/ziJN+kF0P4hPenjNcmSiO/L9YbJt22ja79/K3NJIYzJLJuaQdOhl5o1MoFAkMvQZkVCGAXWR8+JGFae3yAPqFCpcRCQzsq8C+BLyWrfuITE5sEd97wb6hafZSaLKwx42+oWia+lkEB3KW4d1PmRxZWsBxIw0QyeYwrc84c5iOylarx4yxOW2FCbVbl9VtW1YHk8eK6POM8utH+fXDT+6il6KjQXTlGCGqWhvb5rZI2VE32lKuaCmDr9ayMXmPKOzvWISBdrVtdk/K72IOebANjiVpaMFHRhEgMYdpfcaZQ1o6YOKjkcx54Ph67dbXCZaHwudBLA95n6d130LK8zza1Tbye9sAcxhVZRNXTmIOEwpMrNPymFOQUPOv1x84vv5g67Ja2PJQ+zzGxLbpvj2H4r1t3ZeAzXl2DCZgTmLNV9YP/mWtZ3l0fB5ChIFmn8fI8zxYbFvPkTndl74z8fciaI45BGY6c1rzE6u/tK75yhq1PIZ8nklj27AIA13Lo/Petu5kwBxgc4hTsCncW9xsrTU/sWrLG9VfvmHA8lD4PEae59F/V3UXYM4ztNphNpvDdFQ28ZQBjcluyUu8/4V11Rbrqi+tq7WWhyGfp/NXYHOeWZvDtD7jNofp9W+lUvV1kvhOu5KGNjI1BDPn8zeqvngDsTzwtI05n6czyYleGJD7tCBwp135dZKYONliWp9x5jAdlQ1BUH2X6n8F9Zy/NRBxd9DQdTcl7sHPex6cdXkQ6FJ7bl/tuX115+HrYdC+h8F764P31l/Y2/DL3oZffuSEwNej0B8fhe15HLbncfiexog9jRHOTZHw9STK+Un07ubo3c0xu7mx8NVycRd8xe1qjYevtvjtbXFOhsQA6U8RAudvDfyvoJ76LhWROUzrsw5zSA0z8XFAMX65eijht0FwTYrAQd+QScuAAgm/DV6uHhpQjDOhrjR1mpo5NKKALBIC54LCSSngo+UgAJhjOWNBliQ6NomcBD5bDAKAORYzFHqCRMUk6qWBBEtBAGcO01HZ4+PkmahSqVKpyF4dEANTjXNB4QANDA0IgiwKDZw5TK/iKZU6JJmYmBCJJFKpjAgNBEFADAyQc0HhAA0MDUvTDZw5TEdlq9VjRBRQIIaHR0mJQAwMkKjoBIAGhgYEQRaFBs4coojg3hIQAGtrljAKhmQAzDGEjPnTAXPMPwaGJQDMMYyNuXMioxPMLQJo3yACgDkGoTF7BrA5Zh8CGgEAc2jAMXMWYI6ZB4C2eZw5TEdlq1RqoiQTExMSiUwmGyAmQhAExMAAORcUDtDA0LA03cCZA7YOiINkCWiER8ZZghiWtpFiIRuDOHOYjsom6iV6PwH/6SdDlKkzsDA6WwNoEFXEctDQYQ5RRHBvdgSAn2P2IaARADCHBhwzZyX+yjKzBKB5wwgA5hjGxtw5wOaYewTo2gfMoUPHvHmAOebFn751nDkWFcI9k48k5F4rQq9T/uezcwqzcvJzrhWSRhEc0CACYhY0cOaABVDiYJgRDXGfZKezO/Hq7tb5NTJwQIM4UuZCA2eORYVwz/AjCeGR8RhzQsJiZjgaGE8sSkVx5mDygRuzI1BbV48xp7au3uzyAAH0EQDM0cfEIlKOHDu109n9yLFTFiENEEIPAcAcPUgsIyH3WtFOZ/fca0WWIQ6QgowAYA4ZEQv5jK4TiPskFiIPEIOEAGAOCRBzfmxp5RUU5mdmpuVkpxbks456+RTks3KyUzMz0woK81taeeYUDrStiwDOHBDQTkTGlGhMTEyUsIuvZlziPMyHlNXYNSApx+4hZfWjh/nZ2akl7JLx8XFwQAMbLHMdV8GZY8YdDAyFGRjQXlFRkZuT2i8qI5KE5r5fVJabk1rCvg5euIWqjfn3c8ApAyKBTYDGxMREdnZG8+NCGp4Yymp+XJiVnaEfcq+fgnYEnObABne6jqvgNgerGtyYAIHBwaHMTJZyqNIQNyZNVw5VZmayBgeHTCAtaEIfAcAcfUwYT1GpVJlZqZNyw5gCmVmp+m8YZrwDoAEIAswxgxZkZqVPKKqMIcakZSYUVZlZ6Wbow4xvEjDH1CpQwi7p4F2flBLGF+jgXS9hF5u6GzO+PZw54JQBURkYQkPaLyssYBnPCiNLFhWkSftlDMlsaT8iYCEnUHDmgFVpInMYQiM3N8tIMky1WG5uFkMyz8CtAlQT6Ne7ceZYVAj3MxlXP6pQFBWmTZUSRpYvKkyTywcGB4efSehQVbYoFcWZQ/zGBfdMIFBWXibpvW0kE6ZaTNJ7u6y8jAmxQZ2UCADmUMLCSCK8CEYIrpn2e7DIxsiwGagUMMcAMAwkX8s1vDYgvd3bwUYvmRQPXSOz68GZffEG6QfXD/5MhQBgjomQHhwcKr+TSWaC1gS1X3hv2f/5fN/+7/bt/y6wkG2oGJTnON85ylBu+Z1MEFJgouEEO6EmA7qjs+uRbig0kQDtF9579wIeKN1b6BFzNSr0yOYtjh63xdWQ8nZl5I87djiecv47DXMe1ed3dHaZrEczvCHc5pgyrh4NQ5xRofItrbyWJoPBnQSbc+ahsrr9wnsfXcgaHa5uCnjvg7B8KM/xLztCZcpqWfxmGua0NBU+qG0AvxmBUpppfcaZA3YDiF+i044Gj8enCYuGbc6JS4ifc3sUYc6OPNjbQW1R+4X30I/0s7XmxzBzLORV/8+8GDhzTBBXT1TNmRb9LhL1PajKJc7QiPek2RpGFQ1zwtZ/FIk4P7R+zoOqXKFQTAJ5puFM7D6jZy50mENsFdxPLwITExPFRQa3QdsvvDf/T6tWrIGvLbH5JOZA4qh9a1Z9tMNxx5fvLTO8QlBclEapK9PbEVAbigBgjuk0IWuaThYQjRXxHq4f/JkKAcAcUyENQXl5OURFn/Z7uH7wZyoEAHNMhTQEtbTyGmrzpp0waIUNtXng5TimG0vifg6IUSfizhAa03UUVJ9+mVmpDMkMThkQFQNDA7c5074Oi7UHasaguF91n2ZXR58PRqa0NBXer7oPcMZwNsHJCJw5FhXC/QyHymdkTM8bCIikysxMgyAIjCCROUyjgTOH2Cq4Zw6Bru6eogKDy9NEPhh5X1SQ1tXdw5zAoGZKBABzKGFhNvG3336rqjS4K2okYdBiVZW5v/32G7PigtqpEADMoUKF+bTrN9g0IQVGkudBVe71G2zmhQUtUCAAmEMBimmSysrLbly/YiRJ9IvduH4FHAI1zUhRtgKYQwmLiRJbWnlZWani7lv6xKBJEXffyspKBbs3JhokA83gzGE6KhtEv6NDoI9zCbvkWm5qb8dNGragWb0dN6/lppaUFM+oAxqY6upDZ8bjKjhzwG4ANkIm2A3QD8IvYV9PT08pKkhr5BTIRGXoS0AnFNUyUVkjp6CoIC0zM62iogLVFZFIAn7LAB0v+nc76eM8XdDhzEGHhKg9mGTgTfgYLNP1JnysQuwGrXliYoLH4//2228l7OKiooISdvG93+7xeHxSEDTTYmBSYTckAdD0mSyGDnMwmMANQAAgQI8AYA49PiAXIECNAGAONS4gFSBAjwBgDj0+IBcgQI0AzhwQo05ECKAB0IAgSKlU6f+wF6obOHPAqjRRVwAaAA369W6cOUxHZT/DBwcAdESazRA0cOYQOw/uAQIAAXoEAHPo8QG5AAFqBABzqHEBqQABegQAc+jxAbkAAWoEAHOocQGpAAF6BHDmWFQINziSgA4bGBSi+loUGjhzwA4GcZAAGgAN+v2c/weXMFTZ+cJg8wAAAABJRU5ErkJggg==)"
      ],
      "metadata": {
        "id": "n994x1nP-RhZ"
      }
    },
    {
      "cell_type": "markdown",
      "metadata": {
        "id": "oVejInuPakz5"
      },
      "source": [
        "## 3\\. AWS EventBridge"
      ]
    },
    {
      "cell_type": "markdown",
      "metadata": {
        "id": "CZbuPphXakz7"
      },
      "source": [
        "Replique as atividades do item 3.3 em sua conta."
      ]
    },
    {
      "cell_type": "markdown",
      "source": [
        "modulo38-ebac-cinthia-gatilho"
      ],
      "metadata": {
        "id": "8DCSD6lL_cqI"
      }
    }
  ]
}